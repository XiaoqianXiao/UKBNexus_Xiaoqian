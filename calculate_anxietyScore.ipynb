{
 "cells": [
  {
   "cell_type": "code",
   "id": "initial_id",
   "metadata": {
    "collapsed": true,
    "ExecuteTime": {
     "end_time": "2024-09-12T20:02:09.083224Z",
     "start_time": "2024-09-12T20:02:09.080851Z"
    }
   },
   "source": [
    "import pandas as pd\n",
    "import numpy as np\n",
    "import os\n",
    "import re\n",
    "import ast"
   ],
   "outputs": [],
   "execution_count": 108
  },
  {
   "metadata": {
    "ExecuteTime": {
     "end_time": "2024-09-12T18:18:56.454243Z",
     "start_time": "2024-09-12T18:18:55.238672Z"
    }
   },
   "cell_type": "code",
   "source": [
    "data_dir = '/Users/xiaoqianxiao/UKB/data'\n",
    "participantsInfo_file = 'participants.csv'\n",
    "participantsInfo_file_path = os.path.join(data_dir,participantsInfo_file)\n",
    "participantsInfo = pd.read_csv(participantsInfo_file_path)"
   ],
   "id": "f06b9678fe8ec083",
   "outputs": [],
   "execution_count": 2
  },
  {
   "metadata": {
    "ExecuteTime": {
     "end_time": "2024-09-12T18:18:58.254097Z",
     "start_time": "2024-09-12T18:18:58.250347Z"
    }
   },
   "cell_type": "code",
   "source": [
    "#demographic factors' field ids, including: eid, sex, age at the first scan, IQ and EA (5)\n",
    "demographic_fields = ['31','21003_2','20016_2','6138_2']\n",
    "# current depression or anxiety status while scanning (3)\n",
    "current_status_fields = ['2050_2','2060_2','2070_2']\n",
    "# Self_Reported_Mental_Health (1)\n",
    "Self_Reported_Mental_Health_fields = ['29000','20002_i2','21062']\n",
    "# Ever_Diagnosed_Mental_Health_Problem (1)\n",
    "Ever_Diagnosed_Mental_Health_Problem_fields = ['20544']\n",
    "# Self reported history depression: CIDI (13)\n",
    "history_depression_fields = ['20436','20439','20440','20446','20441','20449','20536','20532','20435','20450','20437']\n",
    "# Self reported history anxiety: CIDI (18)\n",
    "history_anxiety_fields = ['20421','20420','20538','20425','20542','20543','20540','20541','20539','20537','20418','20426','20423','20429','20419','20422','20417','20427']\n",
    "# PHQ (9)\n",
    "PHQ_fields = ['20514','20510','20517','20519','20511','20507','20508','20518','20513']\n",
    "# GAD7 (7)\n",
    "GAD7_fields = ['20506','20509','20520','20515','20516','20505','20512']\n",
    "# hospital data: ICD10 and ICD9 (2)\n",
    "hospital_data_fields = ['41270','41271']\n",
    "# fMRI data\n",
    "fMRI_fields = ['31016','31018','31019','31015','31014']"
   ],
   "id": "c35adaa7bb58643c",
   "outputs": [],
   "execution_count": 3
  },
  {
   "metadata": {
    "ExecuteTime": {
     "end_time": "2024-09-12T20:09:31.664921Z",
     "start_time": "2024-09-12T20:09:31.661196Z"
    }
   },
   "cell_type": "code",
   "source": [
    "def fields_for_id_x(field_id):\n",
    "    field_id = str(field_id)\n",
    "    field_items = re.split(r'[,\\s_]+', field_id)\n",
    "    if len(field_items) == 1:\n",
    "        fields = 'p{}'.format(field_items[0])\n",
    "    elif len(field_items) == 2:\n",
    "        fields = 'p{}_i{}'.format(field_items[0], field_items[1])\n",
    "    return fields\n",
    "\n",
    "def extract_strings(string_patten, strings_list):\n",
    "    # Filter strings that start with \"F4\"\n",
    "    return [s for s in strings_list if s.startswith(string_patten)]\n",
    "\n",
    "def safe_literal_eval(x):\n",
    "    try:\n",
    "        return ast.literal_eval(x) if isinstance(x, str) else x\n",
    "    except (ValueError, SyntaxError):\n",
    "        return []"
   ],
   "id": "d46fc28bf42f1b89",
   "outputs": [],
   "execution_count": 119
  },
  {
   "metadata": {
    "ExecuteTime": {
     "end_time": "2024-09-12T18:19:03.996904Z",
     "start_time": "2024-09-12T18:19:03.979557Z"
    }
   },
   "cell_type": "code",
   "source": "participantsInfo.head()",
   "id": "8726d61777aec74d",
   "outputs": [
    {
     "data": {
      "text/plain": [
       "       eid  p31  p21003_i2  p20016_i2 p6138_i2  p2050_i2  p2060_i2  p2070_i2  \\\n",
       "0  1000011    0        NaN        NaN      NaN       NaN       NaN       NaN   \n",
       "1  1000047    1       65.0        5.0      [3]       1.0       1.0       1.0   \n",
       "2  1000190    0        NaN        NaN      NaN       NaN       NaN       NaN   \n",
       "3  1000240    1        NaN        NaN      NaN       NaN       NaN       NaN   \n",
       "4  1000258    1        NaN        NaN      NaN       NaN       NaN       NaN   \n",
       "\n",
       "  p20544  p20436  ...  p20002_i2_a24  p20002_i2_a25  p20002_i2_a26  \\\n",
       "0    NaN     3.0  ...            NaN            NaN            NaN   \n",
       "1    NaN     NaN  ...            NaN            NaN            NaN   \n",
       "2    NaN     NaN  ...            NaN            NaN            NaN   \n",
       "3    NaN     NaN  ...            NaN            NaN            NaN   \n",
       "4    NaN     NaN  ...            NaN            NaN            NaN   \n",
       "\n",
       "   p20002_i2_a27  p20002_i2_a28  p20002_i2_a29  p20002_i2_a30  p20002_i2_a31  \\\n",
       "0            NaN            NaN            NaN            NaN            NaN   \n",
       "1            NaN            NaN            NaN            NaN            NaN   \n",
       "2            NaN            NaN            NaN            NaN            NaN   \n",
       "3            NaN            NaN            NaN            NaN            NaN   \n",
       "4            NaN            NaN            NaN            NaN            NaN   \n",
       "\n",
       "   p20002_i2_a32  p20002_i2_a33  \n",
       "0            NaN            NaN  \n",
       "1            NaN            NaN  \n",
       "2            NaN            NaN  \n",
       "3            NaN            NaN  \n",
       "4            NaN            NaN  \n",
       "\n",
       "[5 rows x 100 columns]"
      ],
      "text/html": [
       "<div>\n",
       "<style scoped>\n",
       "    .dataframe tbody tr th:only-of-type {\n",
       "        vertical-align: middle;\n",
       "    }\n",
       "\n",
       "    .dataframe tbody tr th {\n",
       "        vertical-align: top;\n",
       "    }\n",
       "\n",
       "    .dataframe thead th {\n",
       "        text-align: right;\n",
       "    }\n",
       "</style>\n",
       "<table border=\"1\" class=\"dataframe\">\n",
       "  <thead>\n",
       "    <tr style=\"text-align: right;\">\n",
       "      <th></th>\n",
       "      <th>eid</th>\n",
       "      <th>p31</th>\n",
       "      <th>p21003_i2</th>\n",
       "      <th>p20016_i2</th>\n",
       "      <th>p6138_i2</th>\n",
       "      <th>p2050_i2</th>\n",
       "      <th>p2060_i2</th>\n",
       "      <th>p2070_i2</th>\n",
       "      <th>p20544</th>\n",
       "      <th>p20436</th>\n",
       "      <th>...</th>\n",
       "      <th>p20002_i2_a24</th>\n",
       "      <th>p20002_i2_a25</th>\n",
       "      <th>p20002_i2_a26</th>\n",
       "      <th>p20002_i2_a27</th>\n",
       "      <th>p20002_i2_a28</th>\n",
       "      <th>p20002_i2_a29</th>\n",
       "      <th>p20002_i2_a30</th>\n",
       "      <th>p20002_i2_a31</th>\n",
       "      <th>p20002_i2_a32</th>\n",
       "      <th>p20002_i2_a33</th>\n",
       "    </tr>\n",
       "  </thead>\n",
       "  <tbody>\n",
       "    <tr>\n",
       "      <th>0</th>\n",
       "      <td>1000011</td>\n",
       "      <td>0</td>\n",
       "      <td>NaN</td>\n",
       "      <td>NaN</td>\n",
       "      <td>NaN</td>\n",
       "      <td>NaN</td>\n",
       "      <td>NaN</td>\n",
       "      <td>NaN</td>\n",
       "      <td>NaN</td>\n",
       "      <td>3.0</td>\n",
       "      <td>...</td>\n",
       "      <td>NaN</td>\n",
       "      <td>NaN</td>\n",
       "      <td>NaN</td>\n",
       "      <td>NaN</td>\n",
       "      <td>NaN</td>\n",
       "      <td>NaN</td>\n",
       "      <td>NaN</td>\n",
       "      <td>NaN</td>\n",
       "      <td>NaN</td>\n",
       "      <td>NaN</td>\n",
       "    </tr>\n",
       "    <tr>\n",
       "      <th>1</th>\n",
       "      <td>1000047</td>\n",
       "      <td>1</td>\n",
       "      <td>65.0</td>\n",
       "      <td>5.0</td>\n",
       "      <td>[3]</td>\n",
       "      <td>1.0</td>\n",
       "      <td>1.0</td>\n",
       "      <td>1.0</td>\n",
       "      <td>NaN</td>\n",
       "      <td>NaN</td>\n",
       "      <td>...</td>\n",
       "      <td>NaN</td>\n",
       "      <td>NaN</td>\n",
       "      <td>NaN</td>\n",
       "      <td>NaN</td>\n",
       "      <td>NaN</td>\n",
       "      <td>NaN</td>\n",
       "      <td>NaN</td>\n",
       "      <td>NaN</td>\n",
       "      <td>NaN</td>\n",
       "      <td>NaN</td>\n",
       "    </tr>\n",
       "    <tr>\n",
       "      <th>2</th>\n",
       "      <td>1000190</td>\n",
       "      <td>0</td>\n",
       "      <td>NaN</td>\n",
       "      <td>NaN</td>\n",
       "      <td>NaN</td>\n",
       "      <td>NaN</td>\n",
       "      <td>NaN</td>\n",
       "      <td>NaN</td>\n",
       "      <td>NaN</td>\n",
       "      <td>NaN</td>\n",
       "      <td>...</td>\n",
       "      <td>NaN</td>\n",
       "      <td>NaN</td>\n",
       "      <td>NaN</td>\n",
       "      <td>NaN</td>\n",
       "      <td>NaN</td>\n",
       "      <td>NaN</td>\n",
       "      <td>NaN</td>\n",
       "      <td>NaN</td>\n",
       "      <td>NaN</td>\n",
       "      <td>NaN</td>\n",
       "    </tr>\n",
       "    <tr>\n",
       "      <th>3</th>\n",
       "      <td>1000240</td>\n",
       "      <td>1</td>\n",
       "      <td>NaN</td>\n",
       "      <td>NaN</td>\n",
       "      <td>NaN</td>\n",
       "      <td>NaN</td>\n",
       "      <td>NaN</td>\n",
       "      <td>NaN</td>\n",
       "      <td>NaN</td>\n",
       "      <td>NaN</td>\n",
       "      <td>...</td>\n",
       "      <td>NaN</td>\n",
       "      <td>NaN</td>\n",
       "      <td>NaN</td>\n",
       "      <td>NaN</td>\n",
       "      <td>NaN</td>\n",
       "      <td>NaN</td>\n",
       "      <td>NaN</td>\n",
       "      <td>NaN</td>\n",
       "      <td>NaN</td>\n",
       "      <td>NaN</td>\n",
       "    </tr>\n",
       "    <tr>\n",
       "      <th>4</th>\n",
       "      <td>1000258</td>\n",
       "      <td>1</td>\n",
       "      <td>NaN</td>\n",
       "      <td>NaN</td>\n",
       "      <td>NaN</td>\n",
       "      <td>NaN</td>\n",
       "      <td>NaN</td>\n",
       "      <td>NaN</td>\n",
       "      <td>NaN</td>\n",
       "      <td>NaN</td>\n",
       "      <td>...</td>\n",
       "      <td>NaN</td>\n",
       "      <td>NaN</td>\n",
       "      <td>NaN</td>\n",
       "      <td>NaN</td>\n",
       "      <td>NaN</td>\n",
       "      <td>NaN</td>\n",
       "      <td>NaN</td>\n",
       "      <td>NaN</td>\n",
       "      <td>NaN</td>\n",
       "      <td>NaN</td>\n",
       "    </tr>\n",
       "  </tbody>\n",
       "</table>\n",
       "<p>5 rows × 100 columns</p>\n",
       "</div>"
      ]
     },
     "execution_count": 5,
     "metadata": {},
     "output_type": "execute_result"
    }
   ],
   "execution_count": 5
  },
  {
   "metadata": {
    "ExecuteTime": {
     "end_time": "2024-09-12T18:19:06.186718Z",
     "start_time": "2024-09-12T18:19:06.182993Z"
    }
   },
   "cell_type": "code",
   "source": "participantsInfo.columns",
   "id": "420c130b1e556b67",
   "outputs": [
    {
     "data": {
      "text/plain": [
       "Index(['eid', 'p31', 'p21003_i2', 'p20016_i2', 'p6138_i2', 'p2050_i2',\n",
       "       'p2060_i2', 'p2070_i2', 'p20544', 'p20436', 'p20439', 'p20440',\n",
       "       'p20446', 'p20441', 'p20449', 'p20536', 'p20532', 'p20435', 'p20450',\n",
       "       'p20437', 'p20421', 'p20420', 'p20538', 'p20425', 'p20542', 'p20543',\n",
       "       'p20540', 'p20541', 'p20539', 'p20537', 'p20418', 'p20426', 'p20423',\n",
       "       'p20429', 'p20419', 'p20422', 'p20417', 'p20427', 'p20514', 'p20510',\n",
       "       'p20517', 'p20519', 'p20511', 'p20507', 'p20508', 'p20518', 'p20513',\n",
       "       'p20506', 'p20509', 'p20520', 'p20515', 'p20516', 'p20505', 'p20512',\n",
       "       'p41270', 'p41271', 'p31016_i2', 'p31016_i3', 'p31018_i2', 'p31018_i3',\n",
       "       'p31019_i2', 'p31019_i3', 'p31015_i2', 'p31015_i3', 'p31014_i2',\n",
       "       'p31014_i3', 'p20002_i2_a0', 'p20002_i2_a1', 'p20002_i2_a2',\n",
       "       'p20002_i2_a3', 'p20002_i2_a4', 'p20002_i2_a5', 'p20002_i2_a6',\n",
       "       'p20002_i2_a7', 'p20002_i2_a8', 'p20002_i2_a9', 'p20002_i2_a10',\n",
       "       'p20002_i2_a11', 'p20002_i2_a12', 'p20002_i2_a13', 'p20002_i2_a14',\n",
       "       'p20002_i2_a15', 'p20002_i2_a16', 'p20002_i2_a17', 'p20002_i2_a18',\n",
       "       'p20002_i2_a19', 'p20002_i2_a20', 'p20002_i2_a21', 'p20002_i2_a22',\n",
       "       'p20002_i2_a23', 'p20002_i2_a24', 'p20002_i2_a25', 'p20002_i2_a26',\n",
       "       'p20002_i2_a27', 'p20002_i2_a28', 'p20002_i2_a29', 'p20002_i2_a30',\n",
       "       'p20002_i2_a31', 'p20002_i2_a32', 'p20002_i2_a33'],\n",
       "      dtype='object')"
      ]
     },
     "execution_count": 6,
     "metadata": {},
     "output_type": "execute_result"
    }
   ],
   "execution_count": 6
  },
  {
   "metadata": {
    "ExecuteTime": {
     "end_time": "2024-09-12T18:19:17.369102Z",
     "start_time": "2024-09-12T18:19:08.898837Z"
    }
   },
   "cell_type": "code",
   "source": [
    "# transfer EA\n",
    "dl = []\n",
    "for i in range(participantsInfo.shape[0]):\n",
    "    # Prefer not to answer\n",
    "    if participantsInfo['p6138_i2'].iloc[i] == -3:\n",
    "        dl.append(participantsInfo.index[i])\n",
    "    if participantsInfo['p6138_i2'].iloc[i] == 1:\n",
    "        participantsInfo['p6138_i2'].iloc[i] = 20\n",
    "    if participantsInfo['p6138_i2'].iloc[i] == 2:\n",
    "        participantsInfo['p6138_i2'].iloc[i] = 13\n",
    "    if participantsInfo['p6138_i2'].iloc[i] == 3:\n",
    "        participantsInfo['p6138_i2'].iloc[i] = 10\n",
    "    if participantsInfo['p6138_i2'].iloc[i] == 4:\n",
    "        participantsInfo['p6138_i2'].iloc[i] = 10\n",
    "    if participantsInfo['p6138_i2'].iloc[i] == 5:\n",
    "        participantsInfo['p6138_i2'].iloc[i] = 19 \n",
    "    if participantsInfo['p6138_i2'].iloc[i] == 6:\n",
    "        participantsInfo['p6138_i2'].iloc[i] = 15\n",
    "    # None of the above\n",
    "    if participantsInfo['p6138_i2'].iloc[i] == -7:\n",
    "        dl.append(participantsInfo.index[i])   \n",
    "participantsInfo.drop(dl,inplace=True)"
   ],
   "id": "74e2660fcaa5ce29",
   "outputs": [],
   "execution_count": 7
  },
  {
   "metadata": {
    "ExecuteTime": {
     "end_time": "2024-09-12T19:06:01.886581Z",
     "start_time": "2024-09-12T19:06:01.854283Z"
    }
   },
   "cell_type": "code",
   "source": [
    "# get subset with participants have fMRI data series:\n",
    "participants_withfMRI = participantsInfo.dropna(subset=['p31016_i2'])\n",
    "print(\"number of participants with fMRI time series: {}\".format(participants_withfMRI.shape[0]))\n",
    "df_fMRI = pd.DataFrame(participants_withfMRI['eid'])"
   ],
   "id": "1d997137b5bb08ff",
   "outputs": [
    {
     "name": "stdout",
     "output_type": "stream",
     "text": [
      "number of participants with fMRI time series: 40396\n"
     ]
    }
   ],
   "execution_count": 50
  },
  {
   "metadata": {
    "ExecuteTime": {
     "end_time": "2024-09-12T18:19:20.029182Z",
     "start_time": "2024-09-12T18:19:19.752421Z"
    }
   },
   "cell_type": "code",
   "source": [
    " # select individuals with depression or anxiety \n",
    "l1 = []\n",
    "l2 = []\n",
    "for i in range(participants_withfMRI.shape[0]):\n",
    "    #depression\n",
    "    if participants_withfMRI['p2050_i2'].iloc[i] >= 3 or participants_withfMRI['p2060_i2'].iloc[i] >= 3:\n",
    "        l1.append(participants_withfMRI['eid'].iloc[i])\n",
    "    #anxiety\n",
    "    if participants_withfMRI['p2070_i2'].iloc[i] >= 3:\n",
    "        l2.append(participants_withfMRI['eid'].iloc[i])"
   ],
   "id": "418c1db8217ff43",
   "outputs": [],
   "execution_count": 9
  },
  {
   "metadata": {
    "ExecuteTime": {
     "end_time": "2024-09-12T18:54:37.334097Z",
     "start_time": "2024-09-12T18:54:37.331163Z"
    }
   },
   "cell_type": "code",
   "source": [
    "# Define history anxiety subjects\n",
    "# Initialize an empty list to store all items\n",
    "GAD_fields_name = []\n",
    "# Iterate over each field_id in the list of all_fields_ids\n",
    "for field_id in GAD7_fields:\n",
    "    # Get the list of items for the current field_id using fields_for_id_x\n",
    "    name_for_field = fields_for_id_x(field_id)\n",
    "    GAD_fields_name.append(name_for_field)\n",
    "print(GAD_fields_name)"
   ],
   "id": "9c3bd37a2751237",
   "outputs": [
    {
     "name": "stdout",
     "output_type": "stream",
     "text": [
      "['p20506', 'p20509', 'p20520', 'p20515', 'p20516', 'p20505', 'p20512']\n"
     ]
    }
   ],
   "execution_count": 24
  },
  {
   "metadata": {
    "ExecuteTime": {
     "end_time": "2024-09-12T18:19:24.082172Z",
     "start_time": "2024-09-12T18:19:24.079757Z"
    }
   },
   "cell_type": "code",
   "source": "history_anxiety_fields = ['20421','20420','20538','20425','20542','20543','20540','20541','20539','20537','20418','20426','20423','20429','20419','20422','20417','20427']",
   "id": "f53f7feb82548d5e",
   "outputs": [],
   "execution_count": 11
  },
  {
   "metadata": {
    "ExecuteTime": {
     "end_time": "2024-09-12T19:06:40.312688Z",
     "start_time": "2024-09-12T19:06:36.457159Z"
    }
   },
   "cell_type": "code",
   "source": [
    "df_fMRI['history_anxiety_num_criterias'] = None\n",
    "df_fMRI['history_anxiety_num_symptoms'] = None\n",
    "history_anxiety_subjs = []\n",
    "for i in range(participants_withfMRI.shape[0]):\n",
    "    num_criterias = 0\n",
    "    if participants_withfMRI['p20421'].iloc[i] == 1:\n",
    "        num_criterias = num_criterias + 1\n",
    "    if participants_withfMRI['p20420'].iloc[i] >= 6 or participants_withfMRI['p20420'].iloc[i] == -999:\n",
    "        num_criterias = num_criterias + 1\n",
    "    if participants_withfMRI['p20538'].iloc[i] == 1:\n",
    "        num_criterias = num_criterias + 1\n",
    "    if participants_withfMRI['p20425'].iloc[i] == 1 or participants_withfMRI['p20542'].iloc[i] == 1:\n",
    "        num_criterias = num_criterias + 1\n",
    "    if participants_withfMRI['p20543'].iloc[i] == 2 or participants_withfMRI['p20540'].iloc[i] == 1:\n",
    "        num_criterias = num_criterias + 1\n",
    "    if participants_withfMRI['p20541'].iloc[i] == 1 or participants_withfMRI['p20539'].iloc[i] == 3 or participants_withfMRI['p20537'].iloc[i] == 3:\n",
    "        num_criterias = num_criterias + 1\n",
    "    if participants_withfMRI['p20418'].iloc[i] >= 2:\n",
    "        num_criterias = num_criterias + 1\n",
    "    \n",
    "    # 3 somatic symptoms out of\n",
    "    num_symptoms = 0\n",
    "    if participants_withfMRI['p20426'].iloc[i] == 1:\n",
    "        num_symptoms = num_symptoms + 1\n",
    "    if participants_withfMRI['p20423'].iloc[i] == 1:\n",
    "        num_symptoms = num_symptoms + 1\n",
    "    if participants_withfMRI['p20429'].iloc[i] == 1:\n",
    "        num_symptoms = num_symptoms + 1\n",
    "    if participants_withfMRI['p20419'].iloc[i] == 1:\n",
    "        num_symptoms = num_symptoms + 1\n",
    "    if participants_withfMRI['p20422'].iloc[i] == 1:\n",
    "        num_symptoms = num_symptoms + 1\n",
    "    if participants_withfMRI['p20417'].iloc[i] == 1:\n",
    "        num_symptoms = num_symptoms + 1\n",
    "    if participants_withfMRI['p20427'].iloc[i] == 1:\n",
    "        num_symptoms = num_symptoms + 1\n",
    "        \n",
    "    if num_symptoms >= 3:\n",
    "        num_criterias = num_criterias + 1\n",
    "    \n",
    "    if num_criterias == 8:\n",
    "        history_anxiety_subjs.append(participants_withfMRI['eid'].iloc[i])\n",
    "        \n",
    "    df_fMRI.iloc[i, df_fMRI.columns.get_loc('history_anxiety_num_criterias')] = num_criterias\n",
    "    df_fMRI.iloc[i, df_fMRI.columns.get_loc('history_anxiety_num_symptoms')] = num_symptoms"
   ],
   "id": "75ac926e9008ec4f",
   "outputs": [],
   "execution_count": 53
  },
  {
   "metadata": {
    "ExecuteTime": {
     "end_time": "2024-09-12T19:07:11.903683Z",
     "start_time": "2024-09-12T19:07:11.893639Z"
    }
   },
   "cell_type": "code",
   "source": "df_fMRI['GAD7_score'] = participants_withfMRI[GAD_fields_name].sum(axis = 1)",
   "id": "1a8e7e0ebaef3898",
   "outputs": [],
   "execution_count": 55
  },
  {
   "metadata": {
    "ExecuteTime": {
     "end_time": "2024-09-12T19:07:28.302357Z",
     "start_time": "2024-09-12T19:07:28.298616Z"
    }
   },
   "cell_type": "code",
   "source": [
    "df_fMRI['Current_Anxiety'] = False\n",
    "df_fMRI.loc[df_fMRI['GAD7_score'] >= 10,'Current_Anxiety'] = True"
   ],
   "id": "f414958c030fea28",
   "outputs": [],
   "execution_count": 57
  },
  {
   "metadata": {
    "ExecuteTime": {
     "end_time": "2024-09-12T19:07:30.780908Z",
     "start_time": "2024-09-12T19:07:30.774920Z"
    }
   },
   "cell_type": "code",
   "source": [
    "# hospital data-linkage: \n",
    "# Data-Field 41270 \n",
    "df_fMRI['ICD10'] = participants_withfMRI['p41270'].apply(lambda x: extract_strings('F4', safe_literal_eval(x)) if isinstance(safe_literal_eval(x), list) else [])\n",
    "df_fMRI['Diagnosed_ICD10'] = False\n",
    "df_fMRI.loc[df_fMRI['ICD10'].apply(lambda x: x != []), 'Diagnosed_ICD10'] = True\n",
    "print('number of Diagnosed in ICD10:', df_fMRI['Diagnosed_ICD10'].sum())\n",
    "# Data-Field 41271 \n",
    "df_fMRI['ICD9'] = participants_withfMRI['p41271'].apply(lambda x: extract_strings('300', safe_literal_eval(x)) if isinstance(safe_literal_eval(x), list) else [])\n",
    "df_fMRI['Diagnosed_ICD9'] = False\n",
    "df_fMRI.loc[df_fMRI['ICD9'].apply(lambda x: x != []), 'Diagnosed_ICD9'] = True\n",
    "print('number of Diagnosed in ICD9:', df_fMRI['Diagnosed_ICD9'].sum())"
   ],
   "id": "fd9bcc28e63d503c",
   "outputs": [
    {
     "data": {
      "text/plain": [
       "(7799, 5)"
      ]
     },
     "execution_count": 58,
     "metadata": {},
     "output_type": "execute_result"
    }
   ],
   "execution_count": 58
  },
  {
   "metadata": {
    "ExecuteTime": {
     "end_time": "2024-09-12T21:27:41.652261Z",
     "start_time": "2024-09-12T21:27:41.623078Z"
    }
   },
   "cell_type": "code",
   "source": [
    "# Self reported\n",
    "# 1. self-reporting a lifetime professional diagnosis of one of the core five anxiety disorders [Data-Field 29000]\n",
    "Self_Reported_MedicalCondition = participants_withfMRI.filter(like='29000')\n",
    "anxiety_code = list(range(10,16))\n",
    "\n",
    "for i in range(len(mental_health_code)):\n",
    "    code = mental_health_code[i]\n",
    "    print(code)\n",
    "    added_item = 'Self_Reported_diagnosis'+ str(code)\n",
    "    df_fMRI[added_item] = Self_Reported_MedicalCondition.apply(lambda row: (row == code).any(), axis=1).replace((1,0),('True','False'))\n",
    "print(\"number of self-reporting of medical conditions: \", df_fMRI.loc[df_fMRI[added_item]==True, added_item].shape[0])\n"
   ],
   "id": "8dadc14480d77614",
   "outputs": [
    {
     "ename": "KeyError",
     "evalue": "'p29000'",
     "output_type": "error",
     "traceback": [
      "\u001B[0;31m---------------------------------------------------------------------------\u001B[0m",
      "\u001B[0;31mKeyError\u001B[0m                                  Traceback (most recent call last)",
      "File \u001B[0;32m~/Library/Caches/pypoetry/virtualenvs/ukbnexus-xiaoqian-PL9ZUpYW-py3.12/lib/python3.12/site-packages/pandas/core/indexes/base.py:3805\u001B[0m, in \u001B[0;36mIndex.get_loc\u001B[0;34m(self, key)\u001B[0m\n\u001B[1;32m   3804\u001B[0m \u001B[38;5;28;01mtry\u001B[39;00m:\n\u001B[0;32m-> 3805\u001B[0m     \u001B[38;5;28;01mreturn\u001B[39;00m \u001B[38;5;28;43mself\u001B[39;49m\u001B[38;5;241;43m.\u001B[39;49m\u001B[43m_engine\u001B[49m\u001B[38;5;241;43m.\u001B[39;49m\u001B[43mget_loc\u001B[49m\u001B[43m(\u001B[49m\u001B[43mcasted_key\u001B[49m\u001B[43m)\u001B[49m\n\u001B[1;32m   3806\u001B[0m \u001B[38;5;28;01mexcept\u001B[39;00m \u001B[38;5;167;01mKeyError\u001B[39;00m \u001B[38;5;28;01mas\u001B[39;00m err:\n",
      "File \u001B[0;32mindex.pyx:167\u001B[0m, in \u001B[0;36mpandas._libs.index.IndexEngine.get_loc\u001B[0;34m()\u001B[0m\n",
      "File \u001B[0;32mindex.pyx:196\u001B[0m, in \u001B[0;36mpandas._libs.index.IndexEngine.get_loc\u001B[0;34m()\u001B[0m\n",
      "File \u001B[0;32mpandas/_libs/hashtable_class_helper.pxi:7081\u001B[0m, in \u001B[0;36mpandas._libs.hashtable.PyObjectHashTable.get_item\u001B[0;34m()\u001B[0m\n",
      "File \u001B[0;32mpandas/_libs/hashtable_class_helper.pxi:7089\u001B[0m, in \u001B[0;36mpandas._libs.hashtable.PyObjectHashTable.get_item\u001B[0;34m()\u001B[0m\n",
      "\u001B[0;31mKeyError\u001B[0m: 'p29000'",
      "\nThe above exception was the direct cause of the following exception:\n",
      "\u001B[0;31mKeyError\u001B[0m                                  Traceback (most recent call last)",
      "Cell \u001B[0;32mIn[182], line 3\u001B[0m\n\u001B[1;32m      1\u001B[0m \u001B[38;5;66;03m# Self reported\u001B[39;00m\n\u001B[1;32m      2\u001B[0m \u001B[38;5;66;03m# 1. self-reporting a lifetime professional diagnosis of one of the core five anxiety disorders [Data-Field 29000]\u001B[39;00m\n\u001B[0;32m----> 3\u001B[0m \u001B[43mparticipants_withfMRI\u001B[49m\u001B[43m[\u001B[49m\u001B[38;5;124;43m'\u001B[39;49m\u001B[38;5;124;43mp29000\u001B[39;49m\u001B[38;5;124;43m'\u001B[39;49m\u001B[43m]\u001B[49m\n\u001B[1;32m      4\u001B[0m anxiety_code \u001B[38;5;241m=\u001B[39m \u001B[38;5;28mlist\u001B[39m(\u001B[38;5;28mrange\u001B[39m(\u001B[38;5;241m10\u001B[39m, \u001B[38;5;241m16\u001B[39m))\n\u001B[1;32m      5\u001B[0m \u001B[38;5;66;03m# 2. Self-reporting of medical condition:Non-cancer illness code, self-reported[Data-Field 20002]\u001B[39;00m\n\u001B[1;32m      6\u001B[0m \u001B[38;5;66;03m# 3. Self-reporting of Ever been offered/sought treatment for anxiety [Data-Field 21062]\u001B[39;00m\n",
      "File \u001B[0;32m~/Library/Caches/pypoetry/virtualenvs/ukbnexus-xiaoqian-PL9ZUpYW-py3.12/lib/python3.12/site-packages/pandas/core/frame.py:4102\u001B[0m, in \u001B[0;36mDataFrame.__getitem__\u001B[0;34m(self, key)\u001B[0m\n\u001B[1;32m   4100\u001B[0m \u001B[38;5;28;01mif\u001B[39;00m \u001B[38;5;28mself\u001B[39m\u001B[38;5;241m.\u001B[39mcolumns\u001B[38;5;241m.\u001B[39mnlevels \u001B[38;5;241m>\u001B[39m \u001B[38;5;241m1\u001B[39m:\n\u001B[1;32m   4101\u001B[0m     \u001B[38;5;28;01mreturn\u001B[39;00m \u001B[38;5;28mself\u001B[39m\u001B[38;5;241m.\u001B[39m_getitem_multilevel(key)\n\u001B[0;32m-> 4102\u001B[0m indexer \u001B[38;5;241m=\u001B[39m \u001B[38;5;28;43mself\u001B[39;49m\u001B[38;5;241;43m.\u001B[39;49m\u001B[43mcolumns\u001B[49m\u001B[38;5;241;43m.\u001B[39;49m\u001B[43mget_loc\u001B[49m\u001B[43m(\u001B[49m\u001B[43mkey\u001B[49m\u001B[43m)\u001B[49m\n\u001B[1;32m   4103\u001B[0m \u001B[38;5;28;01mif\u001B[39;00m is_integer(indexer):\n\u001B[1;32m   4104\u001B[0m     indexer \u001B[38;5;241m=\u001B[39m [indexer]\n",
      "File \u001B[0;32m~/Library/Caches/pypoetry/virtualenvs/ukbnexus-xiaoqian-PL9ZUpYW-py3.12/lib/python3.12/site-packages/pandas/core/indexes/base.py:3812\u001B[0m, in \u001B[0;36mIndex.get_loc\u001B[0;34m(self, key)\u001B[0m\n\u001B[1;32m   3807\u001B[0m     \u001B[38;5;28;01mif\u001B[39;00m \u001B[38;5;28misinstance\u001B[39m(casted_key, \u001B[38;5;28mslice\u001B[39m) \u001B[38;5;129;01mor\u001B[39;00m (\n\u001B[1;32m   3808\u001B[0m         \u001B[38;5;28misinstance\u001B[39m(casted_key, abc\u001B[38;5;241m.\u001B[39mIterable)\n\u001B[1;32m   3809\u001B[0m         \u001B[38;5;129;01mand\u001B[39;00m \u001B[38;5;28many\u001B[39m(\u001B[38;5;28misinstance\u001B[39m(x, \u001B[38;5;28mslice\u001B[39m) \u001B[38;5;28;01mfor\u001B[39;00m x \u001B[38;5;129;01min\u001B[39;00m casted_key)\n\u001B[1;32m   3810\u001B[0m     ):\n\u001B[1;32m   3811\u001B[0m         \u001B[38;5;28;01mraise\u001B[39;00m InvalidIndexError(key)\n\u001B[0;32m-> 3812\u001B[0m     \u001B[38;5;28;01mraise\u001B[39;00m \u001B[38;5;167;01mKeyError\u001B[39;00m(key) \u001B[38;5;28;01mfrom\u001B[39;00m \u001B[38;5;21;01merr\u001B[39;00m\n\u001B[1;32m   3813\u001B[0m \u001B[38;5;28;01mexcept\u001B[39;00m \u001B[38;5;167;01mTypeError\u001B[39;00m:\n\u001B[1;32m   3814\u001B[0m     \u001B[38;5;66;03m# If we have a listlike key, _check_indexing_error will raise\u001B[39;00m\n\u001B[1;32m   3815\u001B[0m     \u001B[38;5;66;03m#  InvalidIndexError. Otherwise we fall through and re-raise\u001B[39;00m\n\u001B[1;32m   3816\u001B[0m     \u001B[38;5;66;03m#  the TypeError.\u001B[39;00m\n\u001B[1;32m   3817\u001B[0m     \u001B[38;5;28mself\u001B[39m\u001B[38;5;241m.\u001B[39m_check_indexing_error(key)\n",
      "\u001B[0;31mKeyError\u001B[0m: 'p29000'"
     ]
    }
   ],
   "execution_count": 182
  },
  {
   "metadata": {
    "ExecuteTime": {
     "end_time": "2024-09-12T21:35:19.497363Z",
     "start_time": "2024-09-12T21:35:18.391425Z"
    }
   },
   "cell_type": "code",
   "source": [
    "# 2. Self-reporting of medical condition:Non-cancer illness code, self-reported[Data-Field 20002]\n",
    "Self_Reported_MedicalCondition = participants_withfMRI.filter(like='20002_i2')\n",
    "anxiety_code = [1615,1287]\n",
    "for i in range(len(anxiety_code)):\n",
    "    code = anxiety_code[i]\n",
    "    print(code)\n",
    "    added_item = 'Self_Reported_MedicalCondition'+ str(code)\n",
    "    df_fMRI[added_item] = Self_Reported_MedicalCondition.apply(lambda row: (row == code).any(), axis=1).replace((1,0),('True','False'))\n",
    "print(\"number of self-reporting of medical conditions: \", df_fMRI.loc[df_fMRI[added_item]==True, added_item].shape[0])"
   ],
   "id": "9d8848412e2db41e",
   "outputs": [
    {
     "name": "stdout",
     "output_type": "stream",
     "text": [
      "1615\n",
      "1287\n",
      "number of self-reporting of medical conditions:  1085\n"
     ]
    }
   ],
   "execution_count": 208
  },
  {
   "metadata": {
    "ExecuteTime": {
     "end_time": "2024-09-12T21:15:28.817907Z",
     "start_time": "2024-09-12T21:15:28.807650Z"
    }
   },
   "cell_type": "code",
   "source": [
    "# 3. Self-reporting of Ever been offered/sought treatment for anxiety [Data-Field 21062]\n",
    "Self_Reported_MedicalCondition = participants_withfMRI.filter(like='21062')\n",
    "anxiety_code = ['Yes']\n",
    "for i in range(len(anxiety_code)):\n",
    "    code = anxiety_code[i]\n",
    "    print(code)\n",
    "    added_item = 'Self_Reported_Treatment'\n",
    "    df_fMRI[added_item] = Self_Reported_MedicalCondition.apply(lambda row: (row == code).any(), axis=1).replace((1,0),('True','False'))\n",
    "print(\"number of self-reporting of medical conditions: \", df_fMRI.loc[df_fMRI[added_item]==True, added_item].shape[0])"
   ],
   "id": "6456f976d5beae1c",
   "outputs": [
    {
     "data": {
      "text/plain": [
       "        p20002_i2_a0  p20002_i2_a1  p20002_i2_a2  p20002_i2_a3  p20002_i2_a4  \\\n",
       "1             1065.0           NaN           NaN           NaN           NaN   \n",
       "20            1065.0           NaN           NaN           NaN           NaN   \n",
       "24            1473.0           NaN           NaN           NaN           NaN   \n",
       "54            1065.0        1473.0        1617.0           NaN           NaN   \n",
       "61            1065.0        1223.0        1538.0           NaN           NaN   \n",
       "...              ...           ...           ...           ...           ...   \n",
       "502124        1657.0        1485.0        1154.0           NaN           NaN   \n",
       "502132        1226.0       99999.0       99999.0           NaN           NaN   \n",
       "502134        1637.0        1556.0        1446.0        1387.0        1571.0   \n",
       "502149        1351.0           NaN           NaN           NaN           NaN   \n",
       "502154        1226.0        1265.0        1387.0        1568.0        1569.0   \n",
       "\n",
       "        p20002_i2_a5  p20002_i2_a6  p20002_i2_a7  p20002_i2_a8  p20002_i2_a9  \\\n",
       "1                NaN           NaN           NaN           NaN           NaN   \n",
       "20               NaN           NaN           NaN           NaN           NaN   \n",
       "24               NaN           NaN           NaN           NaN           NaN   \n",
       "54               NaN           NaN           NaN           NaN           NaN   \n",
       "61               NaN           NaN           NaN           NaN           NaN   \n",
       "...              ...           ...           ...           ...           ...   \n",
       "502124           NaN           NaN           NaN           NaN           NaN   \n",
       "502132           NaN           NaN           NaN           NaN           NaN   \n",
       "502134        1677.0        1598.0        1632.0        1534.0        1265.0   \n",
       "502149           NaN           NaN           NaN           NaN           NaN   \n",
       "502154        1570.0           NaN           NaN           NaN           NaN   \n",
       "\n",
       "        ...  p20002_i2_a24  p20002_i2_a25  p20002_i2_a26  p20002_i2_a27  \\\n",
       "1       ...            NaN            NaN            NaN            NaN   \n",
       "20      ...            NaN            NaN            NaN            NaN   \n",
       "24      ...            NaN            NaN            NaN            NaN   \n",
       "54      ...            NaN            NaN            NaN            NaN   \n",
       "61      ...            NaN            NaN            NaN            NaN   \n",
       "...     ...            ...            ...            ...            ...   \n",
       "502124  ...            NaN            NaN            NaN            NaN   \n",
       "502132  ...            NaN            NaN            NaN            NaN   \n",
       "502134  ...            NaN            NaN            NaN            NaN   \n",
       "502149  ...            NaN            NaN            NaN            NaN   \n",
       "502154  ...            NaN            NaN            NaN            NaN   \n",
       "\n",
       "        p20002_i2_a28  p20002_i2_a29  p20002_i2_a30  p20002_i2_a31  \\\n",
       "1                 NaN            NaN            NaN            NaN   \n",
       "20                NaN            NaN            NaN            NaN   \n",
       "24                NaN            NaN            NaN            NaN   \n",
       "54                NaN            NaN            NaN            NaN   \n",
       "61                NaN            NaN            NaN            NaN   \n",
       "...               ...            ...            ...            ...   \n",
       "502124            NaN            NaN            NaN            NaN   \n",
       "502132            NaN            NaN            NaN            NaN   \n",
       "502134            NaN            NaN            NaN            NaN   \n",
       "502149            NaN            NaN            NaN            NaN   \n",
       "502154            NaN            NaN            NaN            NaN   \n",
       "\n",
       "        p20002_i2_a32  p20002_i2_a33  \n",
       "1                 NaN            NaN  \n",
       "20                NaN            NaN  \n",
       "24                NaN            NaN  \n",
       "54                NaN            NaN  \n",
       "61                NaN            NaN  \n",
       "...               ...            ...  \n",
       "502124            NaN            NaN  \n",
       "502132            NaN            NaN  \n",
       "502134            NaN            NaN  \n",
       "502149            NaN            NaN  \n",
       "502154            NaN            NaN  \n",
       "\n",
       "[40396 rows x 34 columns]"
      ],
      "text/html": [
       "<div>\n",
       "<style scoped>\n",
       "    .dataframe tbody tr th:only-of-type {\n",
       "        vertical-align: middle;\n",
       "    }\n",
       "\n",
       "    .dataframe tbody tr th {\n",
       "        vertical-align: top;\n",
       "    }\n",
       "\n",
       "    .dataframe thead th {\n",
       "        text-align: right;\n",
       "    }\n",
       "</style>\n",
       "<table border=\"1\" class=\"dataframe\">\n",
       "  <thead>\n",
       "    <tr style=\"text-align: right;\">\n",
       "      <th></th>\n",
       "      <th>p20002_i2_a0</th>\n",
       "      <th>p20002_i2_a1</th>\n",
       "      <th>p20002_i2_a2</th>\n",
       "      <th>p20002_i2_a3</th>\n",
       "      <th>p20002_i2_a4</th>\n",
       "      <th>p20002_i2_a5</th>\n",
       "      <th>p20002_i2_a6</th>\n",
       "      <th>p20002_i2_a7</th>\n",
       "      <th>p20002_i2_a8</th>\n",
       "      <th>p20002_i2_a9</th>\n",
       "      <th>...</th>\n",
       "      <th>p20002_i2_a24</th>\n",
       "      <th>p20002_i2_a25</th>\n",
       "      <th>p20002_i2_a26</th>\n",
       "      <th>p20002_i2_a27</th>\n",
       "      <th>p20002_i2_a28</th>\n",
       "      <th>p20002_i2_a29</th>\n",
       "      <th>p20002_i2_a30</th>\n",
       "      <th>p20002_i2_a31</th>\n",
       "      <th>p20002_i2_a32</th>\n",
       "      <th>p20002_i2_a33</th>\n",
       "    </tr>\n",
       "  </thead>\n",
       "  <tbody>\n",
       "    <tr>\n",
       "      <th>1</th>\n",
       "      <td>1065.0</td>\n",
       "      <td>NaN</td>\n",
       "      <td>NaN</td>\n",
       "      <td>NaN</td>\n",
       "      <td>NaN</td>\n",
       "      <td>NaN</td>\n",
       "      <td>NaN</td>\n",
       "      <td>NaN</td>\n",
       "      <td>NaN</td>\n",
       "      <td>NaN</td>\n",
       "      <td>...</td>\n",
       "      <td>NaN</td>\n",
       "      <td>NaN</td>\n",
       "      <td>NaN</td>\n",
       "      <td>NaN</td>\n",
       "      <td>NaN</td>\n",
       "      <td>NaN</td>\n",
       "      <td>NaN</td>\n",
       "      <td>NaN</td>\n",
       "      <td>NaN</td>\n",
       "      <td>NaN</td>\n",
       "    </tr>\n",
       "    <tr>\n",
       "      <th>20</th>\n",
       "      <td>1065.0</td>\n",
       "      <td>NaN</td>\n",
       "      <td>NaN</td>\n",
       "      <td>NaN</td>\n",
       "      <td>NaN</td>\n",
       "      <td>NaN</td>\n",
       "      <td>NaN</td>\n",
       "      <td>NaN</td>\n",
       "      <td>NaN</td>\n",
       "      <td>NaN</td>\n",
       "      <td>...</td>\n",
       "      <td>NaN</td>\n",
       "      <td>NaN</td>\n",
       "      <td>NaN</td>\n",
       "      <td>NaN</td>\n",
       "      <td>NaN</td>\n",
       "      <td>NaN</td>\n",
       "      <td>NaN</td>\n",
       "      <td>NaN</td>\n",
       "      <td>NaN</td>\n",
       "      <td>NaN</td>\n",
       "    </tr>\n",
       "    <tr>\n",
       "      <th>24</th>\n",
       "      <td>1473.0</td>\n",
       "      <td>NaN</td>\n",
       "      <td>NaN</td>\n",
       "      <td>NaN</td>\n",
       "      <td>NaN</td>\n",
       "      <td>NaN</td>\n",
       "      <td>NaN</td>\n",
       "      <td>NaN</td>\n",
       "      <td>NaN</td>\n",
       "      <td>NaN</td>\n",
       "      <td>...</td>\n",
       "      <td>NaN</td>\n",
       "      <td>NaN</td>\n",
       "      <td>NaN</td>\n",
       "      <td>NaN</td>\n",
       "      <td>NaN</td>\n",
       "      <td>NaN</td>\n",
       "      <td>NaN</td>\n",
       "      <td>NaN</td>\n",
       "      <td>NaN</td>\n",
       "      <td>NaN</td>\n",
       "    </tr>\n",
       "    <tr>\n",
       "      <th>54</th>\n",
       "      <td>1065.0</td>\n",
       "      <td>1473.0</td>\n",
       "      <td>1617.0</td>\n",
       "      <td>NaN</td>\n",
       "      <td>NaN</td>\n",
       "      <td>NaN</td>\n",
       "      <td>NaN</td>\n",
       "      <td>NaN</td>\n",
       "      <td>NaN</td>\n",
       "      <td>NaN</td>\n",
       "      <td>...</td>\n",
       "      <td>NaN</td>\n",
       "      <td>NaN</td>\n",
       "      <td>NaN</td>\n",
       "      <td>NaN</td>\n",
       "      <td>NaN</td>\n",
       "      <td>NaN</td>\n",
       "      <td>NaN</td>\n",
       "      <td>NaN</td>\n",
       "      <td>NaN</td>\n",
       "      <td>NaN</td>\n",
       "    </tr>\n",
       "    <tr>\n",
       "      <th>61</th>\n",
       "      <td>1065.0</td>\n",
       "      <td>1223.0</td>\n",
       "      <td>1538.0</td>\n",
       "      <td>NaN</td>\n",
       "      <td>NaN</td>\n",
       "      <td>NaN</td>\n",
       "      <td>NaN</td>\n",
       "      <td>NaN</td>\n",
       "      <td>NaN</td>\n",
       "      <td>NaN</td>\n",
       "      <td>...</td>\n",
       "      <td>NaN</td>\n",
       "      <td>NaN</td>\n",
       "      <td>NaN</td>\n",
       "      <td>NaN</td>\n",
       "      <td>NaN</td>\n",
       "      <td>NaN</td>\n",
       "      <td>NaN</td>\n",
       "      <td>NaN</td>\n",
       "      <td>NaN</td>\n",
       "      <td>NaN</td>\n",
       "    </tr>\n",
       "    <tr>\n",
       "      <th>...</th>\n",
       "      <td>...</td>\n",
       "      <td>...</td>\n",
       "      <td>...</td>\n",
       "      <td>...</td>\n",
       "      <td>...</td>\n",
       "      <td>...</td>\n",
       "      <td>...</td>\n",
       "      <td>...</td>\n",
       "      <td>...</td>\n",
       "      <td>...</td>\n",
       "      <td>...</td>\n",
       "      <td>...</td>\n",
       "      <td>...</td>\n",
       "      <td>...</td>\n",
       "      <td>...</td>\n",
       "      <td>...</td>\n",
       "      <td>...</td>\n",
       "      <td>...</td>\n",
       "      <td>...</td>\n",
       "      <td>...</td>\n",
       "      <td>...</td>\n",
       "    </tr>\n",
       "    <tr>\n",
       "      <th>502124</th>\n",
       "      <td>1657.0</td>\n",
       "      <td>1485.0</td>\n",
       "      <td>1154.0</td>\n",
       "      <td>NaN</td>\n",
       "      <td>NaN</td>\n",
       "      <td>NaN</td>\n",
       "      <td>NaN</td>\n",
       "      <td>NaN</td>\n",
       "      <td>NaN</td>\n",
       "      <td>NaN</td>\n",
       "      <td>...</td>\n",
       "      <td>NaN</td>\n",
       "      <td>NaN</td>\n",
       "      <td>NaN</td>\n",
       "      <td>NaN</td>\n",
       "      <td>NaN</td>\n",
       "      <td>NaN</td>\n",
       "      <td>NaN</td>\n",
       "      <td>NaN</td>\n",
       "      <td>NaN</td>\n",
       "      <td>NaN</td>\n",
       "    </tr>\n",
       "    <tr>\n",
       "      <th>502132</th>\n",
       "      <td>1226.0</td>\n",
       "      <td>99999.0</td>\n",
       "      <td>99999.0</td>\n",
       "      <td>NaN</td>\n",
       "      <td>NaN</td>\n",
       "      <td>NaN</td>\n",
       "      <td>NaN</td>\n",
       "      <td>NaN</td>\n",
       "      <td>NaN</td>\n",
       "      <td>NaN</td>\n",
       "      <td>...</td>\n",
       "      <td>NaN</td>\n",
       "      <td>NaN</td>\n",
       "      <td>NaN</td>\n",
       "      <td>NaN</td>\n",
       "      <td>NaN</td>\n",
       "      <td>NaN</td>\n",
       "      <td>NaN</td>\n",
       "      <td>NaN</td>\n",
       "      <td>NaN</td>\n",
       "      <td>NaN</td>\n",
       "    </tr>\n",
       "    <tr>\n",
       "      <th>502134</th>\n",
       "      <td>1637.0</td>\n",
       "      <td>1556.0</td>\n",
       "      <td>1446.0</td>\n",
       "      <td>1387.0</td>\n",
       "      <td>1571.0</td>\n",
       "      <td>1677.0</td>\n",
       "      <td>1598.0</td>\n",
       "      <td>1632.0</td>\n",
       "      <td>1534.0</td>\n",
       "      <td>1265.0</td>\n",
       "      <td>...</td>\n",
       "      <td>NaN</td>\n",
       "      <td>NaN</td>\n",
       "      <td>NaN</td>\n",
       "      <td>NaN</td>\n",
       "      <td>NaN</td>\n",
       "      <td>NaN</td>\n",
       "      <td>NaN</td>\n",
       "      <td>NaN</td>\n",
       "      <td>NaN</td>\n",
       "      <td>NaN</td>\n",
       "    </tr>\n",
       "    <tr>\n",
       "      <th>502149</th>\n",
       "      <td>1351.0</td>\n",
       "      <td>NaN</td>\n",
       "      <td>NaN</td>\n",
       "      <td>NaN</td>\n",
       "      <td>NaN</td>\n",
       "      <td>NaN</td>\n",
       "      <td>NaN</td>\n",
       "      <td>NaN</td>\n",
       "      <td>NaN</td>\n",
       "      <td>NaN</td>\n",
       "      <td>...</td>\n",
       "      <td>NaN</td>\n",
       "      <td>NaN</td>\n",
       "      <td>NaN</td>\n",
       "      <td>NaN</td>\n",
       "      <td>NaN</td>\n",
       "      <td>NaN</td>\n",
       "      <td>NaN</td>\n",
       "      <td>NaN</td>\n",
       "      <td>NaN</td>\n",
       "      <td>NaN</td>\n",
       "    </tr>\n",
       "    <tr>\n",
       "      <th>502154</th>\n",
       "      <td>1226.0</td>\n",
       "      <td>1265.0</td>\n",
       "      <td>1387.0</td>\n",
       "      <td>1568.0</td>\n",
       "      <td>1569.0</td>\n",
       "      <td>1570.0</td>\n",
       "      <td>NaN</td>\n",
       "      <td>NaN</td>\n",
       "      <td>NaN</td>\n",
       "      <td>NaN</td>\n",
       "      <td>...</td>\n",
       "      <td>NaN</td>\n",
       "      <td>NaN</td>\n",
       "      <td>NaN</td>\n",
       "      <td>NaN</td>\n",
       "      <td>NaN</td>\n",
       "      <td>NaN</td>\n",
       "      <td>NaN</td>\n",
       "      <td>NaN</td>\n",
       "      <td>NaN</td>\n",
       "      <td>NaN</td>\n",
       "    </tr>\n",
       "  </tbody>\n",
       "</table>\n",
       "<p>40396 rows × 34 columns</p>\n",
       "</div>"
      ]
     },
     "execution_count": 174,
     "metadata": {},
     "output_type": "execute_result"
    }
   ],
   "execution_count": 174
  },
  {
   "metadata": {
    "ExecuteTime": {
     "end_time": "2024-09-12T21:27:54.402308Z",
     "start_time": "2024-09-12T21:27:54.398537Z"
    }
   },
   "cell_type": "code",
   "source": "",
   "id": "eb3324e36c2ab89a",
   "outputs": [
    {
     "data": {
      "text/plain": [
       "(1085, 12)"
      ]
     },
     "execution_count": 183,
     "metadata": {},
     "output_type": "execute_result"
    }
   ],
   "execution_count": 183
  },
  {
   "metadata": {
    "ExecuteTime": {
     "end_time": "2024-09-12T21:34:14.519557Z",
     "start_time": "2024-09-12T21:34:14.517087Z"
    }
   },
   "cell_type": "code",
   "source": "df_fMRI.loc[df_fMRI[added_item]==True, added_item].shape[0]",
   "id": "d300b340dc93a566",
   "outputs": [
    {
     "data": {
      "text/plain": [
       "1085"
      ]
     },
     "execution_count": 207,
     "metadata": {},
     "output_type": "execute_result"
    }
   ],
   "execution_count": 207
  },
  {
   "metadata": {},
   "cell_type": "code",
   "outputs": [],
   "execution_count": null,
   "source": "[]",
   "id": "6325eb76e50fd9d7"
  }
 ],
 "metadata": {
  "kernelspec": {
   "display_name": "Python 3",
   "language": "python",
   "name": "python3"
  },
  "language_info": {
   "codemirror_mode": {
    "name": "ipython",
    "version": 2
   },
   "file_extension": ".py",
   "mimetype": "text/x-python",
   "name": "python",
   "nbconvert_exporter": "python",
   "pygments_lexer": "ipython2",
   "version": "2.7.6"
  }
 },
 "nbformat": 4,
 "nbformat_minor": 5
}
