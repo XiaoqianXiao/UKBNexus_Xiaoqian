{
 "cells": [
  {
   "metadata": {},
   "cell_type": "code",
   "outputs": [],
   "execution_count": null,
   "source": [
    "# download to local\n",
    "dx download --lightweight -fr data"
   ],
   "id": "e0d8e0b8eb660bbe"
  },
  {
   "cell_type": "code",
   "execution_count": null,
   "id": "initial_id",
   "metadata": {
    "collapsed": true
   },
   "outputs": [],
   "source": [
    "#get list for files have not been download successfully\n",
    "#df =  pd.read_csv(\"file_paths.txt\", header=None)\n",
    "result_file_path = os.path.join('/Users/xiaoqianxiao/UKB/data/derivatives', 'output.txt')\n",
    "df =  pd.read_csv(\"file_paths.txt\")\n",
    "df['filename'] = df['filepath'].str.split(r'[/]', expand=True)[5]\n",
    "directory = '/Users/xiaoqianxiao/UKB/data/derivatives/downloaded_UKB'\n",
    "file_names = os.listdir(directory)\n",
    "df['done_files'] = df['filename'].apply(lambda x: (x in file_names)).replace((1,0),('True','False'))\n",
    "df.loc[df['done_files'] == False]['filepath'].to_csv('file_paths_remain.txt', sep='\\t', index=False, header=False)\n",
    "df.loc[df['done_files'] == False]['filename'].to_csv(result_file_path, sep='\\t', index=False, header=False)"
   ]
  },
  {
   "metadata": {},
   "cell_type": "code",
   "outputs": [],
   "execution_count": null,
   "source": [
    "#unzip files\n",
    "sourceData_path='/Users/xiaoqianxiao/UKB/data/derivatives/downloaded_UKB2'\n",
    "timeseries_path='/Users/xiaoqianxiao/UKB/data/derivatives/unziped_UKB'\n",
    "cd $sourceData_path\n",
    "for f in *.zip; do unzip \"$f\" -d \"${timeseries_path}/${f%.zip}\"; done"
   ],
   "id": "3141d646c6076e8c"
  },
  {
   "metadata": {},
   "cell_type": "code",
   "outputs": [],
   "execution_count": null,
   "source": [
    "#transform to BIDS format\n",
    "import os\n",
    "import re\n",
    "import shutil\n",
    "# Set the path to your directory containing the files\n",
    "base_dir = \"/Users/xiaoqianxiao/UKB/data/derivatives/unziped_UKB\"\n",
    "target_dir = \"/Users/xiaoqianxiao/UKB/data/derivatives/timeseries\"\n",
    "# Function to rename files to BIDS format\n",
    "#session: Instance(2=Imaging visit; 3=First repeat imaging visit)\n",
    "def rename_to_bids(base_dir):\n",
    "    # Loop through each subdirectory in the base directory\n",
    "    for subject_dir in os.listdir(base_dir):\n",
    "        subject_path = os.path.join(base_dir, subject_dir)\n",
    "\n",
    "        if os.path.isdir(subject_path):\n",
    "            # Extract the subject ID from the folder name\n",
    "            subject_id = re.split(r'[_\\s;]+', subject_dir)[0]\n",
    "            session_id =re.split(r'[_\\s;]+', subject_dir)[2]\n",
    "        \n",
    "            # Loop through the files in the subject directory\n",
    "            for filename in os.listdir(subject_path):\n",
    "                space_id = re.split(r'[.\\s;]+', filename)[1]\n",
    "                if filename.endswith('.csv.gz'):\n",
    "                    #sub-subID_ses-mri_run-runID_task-{task_name}_space-space.csv.gz\n",
    "                    task_name = \"rest\"  # Modify this if you have different tasks\n",
    "                    new_filename = f\"sub-{subject_id}_ses-{session_id}_task-{task_name}_space-{space_id}.csv.gz\"\n",
    "                    new_file_path = os.path.join(target_dir, new_filename)\n",
    "\n",
    "                    # Full path of the old file\n",
    "                    old_file_path = os.path.join(subject_path, filename)\n",
    "\n",
    "                    # Rename the file\n",
    "                    os.rename(old_file_path, new_file_path)\n",
    "                    #shutil.copy(old_file_path, new_file_path)\n",
    "                    #print(f\"Renamed: {old_file_path} to {new_file_path}\")\n",
    "\n",
    "# Call the function\n",
    "rename_to_bids(base_dir)"
   ],
   "id": "c6f882d38dc7aac2"
  },
  {
   "metadata": {},
   "cell_type": "code",
   "outputs": [],
   "execution_count": null,
   "source": "",
   "id": "47b990b05a2798df"
  }
 ],
 "metadata": {
  "kernelspec": {
   "display_name": "Python 3",
   "language": "python",
   "name": "python3"
  },
  "language_info": {
   "codemirror_mode": {
    "name": "ipython",
    "version": 2
   },
   "file_extension": ".py",
   "mimetype": "text/x-python",
   "name": "python",
   "nbconvert_exporter": "python",
   "pygments_lexer": "ipython2",
   "version": "2.7.6"
  }
 },
 "nbformat": 4,
 "nbformat_minor": 5
}
