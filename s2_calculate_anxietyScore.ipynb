{
 "cells": [
  {
   "cell_type": "code",
   "id": "initial_id",
   "metadata": {
    "collapsed": true,
    "ExecuteTime": {
     "end_time": "2024-10-18T21:03:05.014388Z",
     "start_time": "2024-10-18T21:03:05.011532Z"
    }
   },
   "source": [
    "import pandas as pd\n",
    "import numpy as np\n",
    "import os\n",
    "import re\n",
    "import ast"
   ],
   "outputs": [],
   "execution_count": 50
  },
  {
   "metadata": {
    "ExecuteTime": {
     "end_time": "2024-10-18T21:03:08.217215Z",
     "start_time": "2024-10-18T21:03:06.915124Z"
    }
   },
   "cell_type": "code",
   "source": [
    "data_dir = '/Users/xiaoqianxiao/UKB/data'\n",
    "participantsInfo_file = 'participants.csv'\n",
    "participantsInfo_file_path = os.path.join(data_dir,participantsInfo_file)\n",
    "participantsInfo = pd.read_csv(participantsInfo_file_path)"
   ],
   "id": "f06b9678fe8ec083",
   "outputs": [],
   "execution_count": 51
  },
  {
   "metadata": {
    "ExecuteTime": {
     "end_time": "2024-10-18T21:03:09.811396Z",
     "start_time": "2024-10-18T21:03:09.808145Z"
    }
   },
   "cell_type": "code",
   "source": [
    "#demographic factors' field ids, including: eid, sex, age at the first scan, IQ and EA (5)\n",
    "demographic_fields = ['31','21003_2','20016_2','6138_2']\n",
    "current_status_fields = ['2050_2','2060_2','2070_2']\n",
    "# Self_Reported_Mental_Health (1)\n",
    "Self_Reported_Mental_Health_fields = ['29000','20002_i2','21062']\n",
    "# Ever_Diagnosed_Mental_Health_Problem (1)\n",
    "Ever_Diagnosed_Mental_Health_Problem_fields = ['20544']\n",
    "# Self reported history depression: CIDI (13)\n",
    "history_depression_fields = ['20436','20439','20440','20446','20441','20449','20536','20532','20435','20450','20437']\n",
    "# Self reported history anxiety: CIDI (18)\n",
    "history_anxiety_fields = ['20421','20420','20538','20425','20542','20543','20540','20541','20539','20537','20418','20426','20423','20429','20419','20422','20417','20427']\n",
    "# PHQ (9)\n",
    "PHQ_fields = ['20514','20510','20517','20519','20511','20507','20508','20518','20513']\n",
    "# GAD7 (7)\n",
    "GAD7_fields = ['20506','20509','20520','20515','20516','20505','20512']\n",
    "# hospital data: ICD10 and ICD9 (2)\n",
    "hospital_data_fields = ['41270','41271']\n",
    "# fMRI data\n",
    "fMRI_fields = ['31016','31018','31019','31015','31014']"
   ],
   "id": "c35adaa7bb58643c",
   "outputs": [],
   "execution_count": 52
  },
  {
   "metadata": {
    "ExecuteTime": {
     "end_time": "2024-10-18T21:03:13.085479Z",
     "start_time": "2024-10-18T21:03:13.081968Z"
    }
   },
   "cell_type": "code",
   "source": [
    "def fields_for_id_x(field_id):\n",
    "    field_id = str(field_id)\n",
    "    field_items = re.split(r'[,\\s_]+', field_id)\n",
    "    if len(field_items) == 1:\n",
    "        fields = 'p{}'.format(field_items[0])\n",
    "    elif len(field_items) == 2:\n",
    "        fields = 'p{}_i{}'.format(field_items[0], field_items[1])\n",
    "    return fields\n",
    "\n",
    "def extract_strings(string_patten, strings_list):\n",
    "    # Filter strings that start with \"F4\"\n",
    "    #return [s for s in strings_list if s.startswith(string_patten)]\n",
    "    return [s for s in strings_list if any(pattern in s for pattern in string_patten)]\n",
    "\n",
    "def safe_literal_eval(x):\n",
    "    try:\n",
    "        return ast.literal_eval(x) if isinstance(x, str) else x\n",
    "    except (ValueError, SyntaxError):\n",
    "        return []"
   ],
   "id": "d46fc28bf42f1b89",
   "outputs": [],
   "execution_count": 53
  },
  {
   "metadata": {
    "ExecuteTime": {
     "end_time": "2024-10-18T21:03:24.313211Z",
     "start_time": "2024-10-18T21:03:16.144885Z"
    }
   },
   "cell_type": "code",
   "source": [
    "# transfer EA\n",
    "dl = []\n",
    "for i in range(participantsInfo.shape[0]):\n",
    "    # Prefer not to answer\n",
    "    if participantsInfo['p6138_i2'].iloc[i] == -3:\n",
    "        dl.append(participantsInfo.index[i])\n",
    "    if participantsInfo['p6138_i2'].iloc[i] == 1:\n",
    "        participantsInfo['p6138_i2'].iloc[i] = 20\n",
    "    if participantsInfo['p6138_i2'].iloc[i] == 2:\n",
    "        participantsInfo['p6138_i2'].iloc[i] = 13\n",
    "    if participantsInfo['p6138_i2'].iloc[i] == 3:\n",
    "        participantsInfo['p6138_i2'].iloc[i] = 10\n",
    "    if participantsInfo['p6138_i2'].iloc[i] == 4:\n",
    "        participantsInfo['p6138_i2'].iloc[i] = 10\n",
    "    if participantsInfo['p6138_i2'].iloc[i] == 5:\n",
    "        participantsInfo['p6138_i2'].iloc[i] = 19 \n",
    "    if participantsInfo['p6138_i2'].iloc[i] == 6:\n",
    "        participantsInfo['p6138_i2'].iloc[i] = 15\n",
    "    # None of the above\n",
    "    if participantsInfo['p6138_i2'].iloc[i] == -7:\n",
    "        dl.append(participantsInfo.index[i])   \n",
    "participantsInfo.drop(dl,inplace=True)"
   ],
   "id": "74e2660fcaa5ce29",
   "outputs": [],
   "execution_count": 54
  },
  {
   "metadata": {
    "ExecuteTime": {
     "end_time": "2024-10-18T21:03:28.365698Z",
     "start_time": "2024-10-18T21:03:28.325881Z"
    }
   },
   "cell_type": "code",
   "source": [
    "# get subset with participants have fMRI data series:\n",
    "participants_withfMRI = participantsInfo.dropna(subset=['p31016_i2'])\n",
    "print(\"number of participants with fMRI time series: {}\".format(participants_withfMRI.shape[0]))\n",
    "df_fMRI = pd.DataFrame(participants_withfMRI['eid'])"
   ],
   "id": "1d997137b5bb08ff",
   "outputs": [
    {
     "name": "stdout",
     "output_type": "stream",
     "text": [
      "number of participants with fMRI time series: 40396\n"
     ]
    }
   ],
   "execution_count": 55
  },
  {
   "metadata": {
    "ExecuteTime": {
     "end_time": "2024-10-18T21:03:31.342993Z",
     "start_time": "2024-10-18T21:03:31.071088Z"
    }
   },
   "cell_type": "code",
   "source": [
    "l1 = []\n",
    "l2 = []\n",
    "for i in range(participants_withfMRI.shape[0]):\n",
    "    #depression\n",
    "    if participants_withfMRI['p2050_i2'].iloc[i] >= 3 or participants_withfMRI['p2060_i2'].iloc[i] >= 3:\n",
    "        l1.append(participants_withfMRI['eid'].iloc[i])\n",
    "    #anxiety\n",
    "    if participants_withfMRI['p2070_i2'].iloc[i] >= 3:\n",
    "        l2.append(participants_withfMRI['eid'].iloc[i])"
   ],
   "id": "418c1db8217ff43",
   "outputs": [],
   "execution_count": 56
  },
  {
   "metadata": {
    "ExecuteTime": {
     "end_time": "2024-10-18T21:03:40.334851Z",
     "start_time": "2024-10-18T21:03:36.634243Z"
    }
   },
   "cell_type": "code",
   "source": [
    "#CIDI\n",
    "history_anxiety_fields = ['20421','20420','20538','20425','20542','20543','20540','20541','20539','20537','20418','20426','20423','20429','20419','20422','20417','20427']\n",
    "df_fMRI['history_anxiety_num_criterias'] = None\n",
    "df_fMRI['history_anxiety_num_symptoms'] = None\n",
    "history_anxiety_subjs = []\n",
    "for i in range(participants_withfMRI.shape[0]):\n",
    "    num_criterias = 0\n",
    "    if participants_withfMRI['p20421'].iloc[i] == 1:\n",
    "        num_criterias = num_criterias + 1\n",
    "    if participants_withfMRI['p20420'].iloc[i] >= 6 or participants_withfMRI['p20420'].iloc[i] == -999:\n",
    "        num_criterias = num_criterias + 1\n",
    "    if participants_withfMRI['p20538'].iloc[i] == 1:\n",
    "        num_criterias = num_criterias + 1\n",
    "    if participants_withfMRI['p20425'].iloc[i] == 1 or participants_withfMRI['p20542'].iloc[i] == 1:\n",
    "        num_criterias = num_criterias + 1\n",
    "    if participants_withfMRI['p20543'].iloc[i] == 2 or participants_withfMRI['p20540'].iloc[i] == 1:\n",
    "        num_criterias = num_criterias + 1\n",
    "    if participants_withfMRI['p20541'].iloc[i] == 1 or participants_withfMRI['p20539'].iloc[i] == 3 or participants_withfMRI['p20537'].iloc[i] == 3:\n",
    "        num_criterias = num_criterias + 1\n",
    "    if participants_withfMRI['p20418'].iloc[i] >= 2:\n",
    "        num_criterias = num_criterias + 1\n",
    "    \n",
    "    # 3 somatic symptoms out of\n",
    "    num_symptoms = 0\n",
    "    if participants_withfMRI['p20426'].iloc[i] == 1:\n",
    "        num_symptoms = num_symptoms + 1\n",
    "    if participants_withfMRI['p20423'].iloc[i] == 1:\n",
    "        num_symptoms = num_symptoms + 1\n",
    "    if participants_withfMRI['p20429'].iloc[i] == 1:\n",
    "        num_symptoms = num_symptoms + 1\n",
    "    if participants_withfMRI['p20419'].iloc[i] == 1:\n",
    "        num_symptoms = num_symptoms + 1\n",
    "    if participants_withfMRI['p20422'].iloc[i] == 1:\n",
    "        num_symptoms = num_symptoms + 1\n",
    "    if participants_withfMRI['p20417'].iloc[i] == 1:\n",
    "        num_symptoms = num_symptoms + 1\n",
    "    if participants_withfMRI['p20427'].iloc[i] == 1:\n",
    "        num_symptoms = num_symptoms + 1\n",
    "        \n",
    "    if num_symptoms >= 3:\n",
    "        num_criterias = num_criterias + 1\n",
    "    \n",
    "    if num_criterias == 8:\n",
    "        history_anxiety_subjs.append(participants_withfMRI['eid'].iloc[i])\n",
    "        \n",
    "    df_fMRI.iloc[i, df_fMRI.columns.get_loc('history_anxiety_num_criterias')] = num_criterias\n",
    "    df_fMRI.iloc[i, df_fMRI.columns.get_loc('history_anxiety_num_symptoms')] = num_symptoms\n",
    "df_fMRI['history_anxiety'] = df_fMRI['history_anxiety_num_criterias'].apply(lambda x: (x == 8)).replace((1,0),('True','False'))\n",
    "print(\"number of history anxiety: \", df_fMRI.loc[df_fMRI['history_anxiety']==True, 'history_anxiety'].shape[0])"
   ],
   "id": "75ac926e9008ec4f",
   "outputs": [
    {
     "name": "stdout",
     "output_type": "stream",
     "text": [
      "number of history anxiety:  1909\n"
     ]
    }
   ],
   "execution_count": 57
  },
  {
   "metadata": {
    "ExecuteTime": {
     "end_time": "2024-10-21T20:19:57.628846Z",
     "start_time": "2024-10-21T20:19:57.616371Z"
    }
   },
   "cell_type": "code",
   "source": [
    "# Current anxiety\n",
    "GAD7_fields_name = [fields_for_id_x(field) for field in GAD7_fields]\n",
    "df_fMRI['GAD7_score'] = participants_withfMRI[GAD7_fields_name].sum(axis = 1)\n",
    "df_fMRI['Current_Anxiety'] = False\n",
    "df_fMRI.loc[df_fMRI['GAD7_score'] >= 10,'Current_Anxiety'] = True\n",
    "df_fMRI.loc[df_fMRI['GAD7_score'] < 5,'Current_no_Anxiety'] = True\n",
    "print('number of Diagnosed in Current_Anxiety:', df_fMRI['Current_Anxiety'].sum())"
   ],
   "id": "f414958c030fea28",
   "outputs": [
    {
     "name": "stdout",
     "output_type": "stream",
     "text": [
      "number of Diagnosed in Current_Anxiety: 7799\n"
     ]
    }
   ],
   "execution_count": 130
  },
  {
   "metadata": {
    "ExecuteTime": {
     "end_time": "2024-10-21T17:10:03.118588Z",
     "start_time": "2024-10-21T17:10:02.264130Z"
    }
   },
   "cell_type": "code",
   "source": [
    "# hospital data-linkage: \n",
    "# Data-Field 41270 \n",
    "df_fMRI['ICD10'] = participants_withfMRI['p41270'].apply(lambda x: extract_strings(['F40', 'F41', 'F42'], safe_literal_eval(x)) if isinstance(safe_literal_eval(x), list) else [])\n",
    "df_fMRI['Diagnosed_ICD10'] = False\n",
    "df_fMRI.loc[df_fMRI['ICD10'].apply(lambda x: x != []), 'Diagnosed_ICD10'] = True\n",
    "print('number of Diagnosed in ICD10:', df_fMRI['Diagnosed_ICD10'].sum())\n",
    "# Data-Field 41271 \n",
    "df_fMRI['ICD9'] = participants_withfMRI['p41271'].apply(lambda x: extract_strings('300', safe_literal_eval(x)) if isinstance(safe_literal_eval(x), list) else [])\n",
    "df_fMRI['Diagnosed_ICD9'] = False\n",
    "df_fMRI.loc[df_fMRI['ICD9'].apply(lambda x: x != []), 'Diagnosed_ICD9'] = True\n",
    "print('number of Diagnosed in ICD9:', df_fMRI['Diagnosed_ICD9'].sum())"
   ],
   "id": "fd9bcc28e63d503c",
   "outputs": [
    {
     "name": "stdout",
     "output_type": "stream",
     "text": [
      "number of Diagnosed in ICD10: 1426\n",
      "number of Diagnosed in ICD9: 856\n"
     ]
    }
   ],
   "execution_count": 115
  },
  {
   "metadata": {
    "ExecuteTime": {
     "end_time": "2024-10-21T17:10:38.837167Z",
     "start_time": "2024-10-21T17:10:37.965491Z"
    }
   },
   "cell_type": "code",
   "source": [
    "# Generate number of subjects in different subcategories\n",
    "# hospital data-linkage: \n",
    "# for OCD\n",
    "# Data-Field 41270 \n",
    "df_fMRI['ICD10_OCD'] = participants_withfMRI['p41270'].apply(lambda x: extract_strings(['F42'], safe_literal_eval(x)) if isinstance(safe_literal_eval(x), list) else [])\n",
    "df_fMRI['Diagnosed_ICD10_OCD'] = False\n",
    "df_fMRI.loc[df_fMRI['ICD10_OCD'].apply(lambda x: x != []), 'Diagnosed_ICD10_OCD'] = True\n",
    "print('number of Diagnosed as OCD in ICD10:', df_fMRI['Diagnosed_ICD10_OCD'].sum())"
   ],
   "id": "1cdb8c9834619bfa",
   "outputs": [
    {
     "name": "stdout",
     "output_type": "stream",
     "text": [
      "number of Diagnosed as OCD in ICD10: 16\n"
     ]
    }
   ],
   "execution_count": 117
  },
  {
   "metadata": {
    "ExecuteTime": {
     "end_time": "2024-10-21T17:08:44.922285Z",
     "start_time": "2024-10-21T17:08:44.917117Z"
    }
   },
   "cell_type": "code",
   "source": "",
   "id": "91f678c5cd1bcc3",
   "outputs": [
    {
     "data": {
      "text/plain": [
       "Series([], Name: p41270, dtype: object)"
      ]
     },
     "execution_count": 114,
     "metadata": {},
     "output_type": "execute_result"
    }
   ],
   "execution_count": 114
  },
  {
   "metadata": {
    "ExecuteTime": {
     "end_time": "2024-10-18T21:13:55.528185Z",
     "start_time": "2024-10-18T21:13:52.810065Z"
    }
   },
   "cell_type": "code",
   "source": [
    "# Self reported\n",
    "# 1. self-reporting a lifetime professional diagnosis of one of the core five anxiety disorders [Data-Field 29000]\n",
    "Self_Reported_MedicalCondition = participants_withfMRI.filter(like='29000')\n",
    "anxiety_code = list(range(10,16))\n",
    "\n",
    "for i in range(len(anxiety_code)):\n",
    "    code = anxiety_code[i]\n",
    "    #print(code)\n",
    "    added_item = 'Self_Reported_diagnosis'+ str(code)\n",
    "    df_fMRI[added_item] = Self_Reported_MedicalCondition['p29000'].apply(lambda row: (code in safe_literal_eval(row)) if isinstance(safe_literal_eval(row), list) else [])\n",
    "\n",
    "columns_Self_Reported_diagnosis = df_fMRI.filter(like='Self_Reported_diagnosis')\n",
    "df_fMRI['Self_Reported_diagnosis'] = columns_Self_Reported_diagnosis.apply(lambda row: (row == True).any(), axis=1).replace((1,0),('True','False'))\n",
    "print(\"number of self-reporting of diagnosis: \", df_fMRI.loc[df_fMRI['Self_Reported_diagnosis']==True, 'Self_Reported_diagnosis'].shape[0])"
   ],
   "id": "8dadc14480d77614",
   "outputs": [
    {
     "name": "stdout",
     "output_type": "stream",
     "text": [
      "number of self-reporting of diagnosis:  2025\n"
     ]
    }
   ],
   "execution_count": 76
  },
  {
   "metadata": {
    "ExecuteTime": {
     "end_time": "2024-10-18T21:14:00.864122Z",
     "start_time": "2024-10-18T21:13:59.186454Z"
    }
   },
   "cell_type": "code",
   "source": [
    "# 2. Self-reporting of medical condition:Non-cancer illness code, self-reported[Data-Field 20002]\n",
    "Self_Reported_MedicalCondition = participants_withfMRI.filter(like='20002_i2')\n",
    "anxiety_code = [1615,1287]\n",
    "for i in range(len(anxiety_code)):\n",
    "    code = anxiety_code[i]\n",
    "    #print(code)\n",
    "    added_item = 'Self_Reported_MedicalCondition'+ str(code)\n",
    "    df_fMRI[added_item] = Self_Reported_MedicalCondition.apply(lambda row: (row == code).any(), axis=1).replace((1,0),('True','False'))\n",
    "    \n",
    "columns_Self_Reported_MedicalCondition = df_fMRI.filter(like='Self_Reported_MedicalCondition')\n",
    "df_fMRI['Self_Reported_MedicalCondition'] = columns_Self_Reported_MedicalCondition.apply(lambda row: (row == True).any(), axis=1).replace((1,0),('True','False'))\n",
    "print(\"number of self-reporting of medical conditions: \", df_fMRI.loc[df_fMRI['Self_Reported_MedicalCondition']==True, 'Self_Reported_MedicalCondition'].shape[0])"
   ],
   "id": "9d8848412e2db41e",
   "outputs": [
    {
     "name": "stdout",
     "output_type": "stream",
     "text": [
      "number of self-reporting of medical conditions:  1096\n"
     ]
    }
   ],
   "execution_count": 77
  },
  {
   "metadata": {
    "ExecuteTime": {
     "end_time": "2024-10-18T21:14:03.260849Z",
     "start_time": "2024-10-18T21:14:03.250152Z"
    }
   },
   "cell_type": "code",
   "source": [
    "# 3. Self-reporting of Ever been offered/sought treatment for anxiety [Data-Field 21062]\n",
    "Self_Reported_MedicalCondition = participants_withfMRI.filter(like='21062')\n",
    "anxiety_code = [1]\n",
    "for i in range(len(anxiety_code)):\n",
    "    code = anxiety_code[i]\n",
    "    print(code)\n",
    "    added_item = 'Self_Reported_Treatment'\n",
    "    df_fMRI[added_item] = Self_Reported_MedicalCondition['p21062'].apply(lambda row: (row == code)).replace((1,0),('True','False'))\n",
    "print(\"number of self-reporting of medical conditions: \", df_fMRI.loc[df_fMRI[added_item]==True, added_item].shape[0])"
   ],
   "id": "6456f976d5beae1c",
   "outputs": [
    {
     "name": "stdout",
     "output_type": "stream",
     "text": [
      "1\n",
      "number of self-reporting of medical conditions:  6673\n"
     ]
    }
   ],
   "execution_count": 78
  },
  {
   "metadata": {
    "ExecuteTime": {
     "end_time": "2024-10-18T18:22:40.180808Z",
     "start_time": "2024-10-18T18:22:40.177172Z"
    }
   },
   "cell_type": "code",
   "source": "df_fMRI.columns",
   "id": "4afff69bb7fbb328",
   "outputs": [
    {
     "data": {
      "text/plain": [
       "Index(['eid', 'history_anxiety_num_criterias', 'history_anxiety_num_symptoms',\n",
       "       'history_anxiety', 'ICD10', 'Diagnosed_ICD10', 'ICD9', 'Diagnosed_ICD9',\n",
       "       'Self_Reported_diagnosis10', 'Self_Reported_diagnosis11',\n",
       "       'Self_Reported_diagnosis12', 'Self_Reported_diagnosis13',\n",
       "       'Self_Reported_diagnosis14', 'Self_Reported_diagnosis15',\n",
       "       'Self_Reported_diagnosis', 'Self_Reported_MedicalCondition1615',\n",
       "       'Self_Reported_MedicalCondition1287', 'Self_Reported_MedicalCondition'],\n",
       "      dtype='object')"
      ]
     },
     "execution_count": 13,
     "metadata": {},
     "output_type": "execute_result"
    }
   ],
   "execution_count": 13
  },
  {
   "metadata": {
    "ExecuteTime": {
     "end_time": "2024-10-18T21:14:11.807886Z",
     "start_time": "2024-10-18T21:14:11.776059Z"
    }
   },
   "cell_type": "code",
   "source": [
    "GAD_score_file_path = os.path.join(data_dir,'gad_score.csv')\n",
    "df_fMRI[['eid','GAD7_score']].to_csv(GAD_score_file_path, index=False)"
   ],
   "id": "d145763f1b06bb60",
   "outputs": [],
   "execution_count": 79
  },
  {
   "metadata": {
    "ExecuteTime": {
     "end_time": "2024-10-18T21:14:23.224424Z",
     "start_time": "2024-10-18T21:14:22.652934Z"
    }
   },
   "cell_type": "code",
   "source": [
    "# subjects with anxiety\n",
    "judgment_columns = ['history_anxiety', 'Diagnosed_ICD10', 'Diagnosed_ICD9', 'Self_Reported_diagnosis', 'Self_Reported_Treatment', 'Self_Reported_MedicalCondition', 'Current_Anxiety', ]\n",
    "df_fMRI['anxiety'] = df_fMRI[judgment_columns].apply(lambda row: (row == True).any(), axis=1).replace((1,0),('True','False'))\n",
    "print(\"number of anxiety: \", df_fMRI.loc[df_fMRI['anxiety']==True, 'anxiety'].shape[0])"
   ],
   "id": "bbb5ffc16443d9c5",
   "outputs": [
    {
     "name": "stdout",
     "output_type": "stream",
     "text": [
      "number of anxiety:  13839\n"
     ]
    }
   ],
   "execution_count": 80
  },
  {
   "metadata": {
    "ExecuteTime": {
     "end_time": "2024-10-18T21:14:29.778230Z",
     "start_time": "2024-10-18T21:14:29.769401Z"
    }
   },
   "cell_type": "code",
   "source": [
    "anxiety_fMRI_eid = df_fMRI.loc[df_fMRI['anxiety']==True, 'eid']\n",
    "output_path = os.path.join(data_dir, 'needed_participants.csv')\n",
    "anxiety_fMRI_eid.to_csv(output_path, index=False)"
   ],
   "id": "c57ab18921223f60",
   "outputs": [],
   "execution_count": 81
  },
  {
   "metadata": {
    "ExecuteTime": {
     "end_time": "2024-10-18T21:14:34.043051Z",
     "start_time": "2024-10-18T21:14:33.807421Z"
    }
   },
   "cell_type": "code",
   "source": [
    "# get fMRI data path\n",
    "imagingData_file_path = os.path.join(data_dir, 'imaging_eids.csv')\n",
    "imagingInfo = pd.read_csv(imagingData_file_path)\n",
    "df_data = imagingInfo.loc[imagingInfo['eid'].isin(anxiety_fMRI_eid)]\n",
    "\n",
    "output_path = os.path.join(data_dir, 'anxiety_fMRI_participants.csv')\n",
    "df_data.to_csv('anxiety_fMRI_participants.csv', index=False)"
   ],
   "id": "546a96583975db9c",
   "outputs": [],
   "execution_count": 82
  },
  {
   "metadata": {
    "ExecuteTime": {
     "end_time": "2024-10-18T21:14:38.481121Z",
     "start_time": "2024-10-18T21:14:38.459893Z"
    }
   },
   "cell_type": "code",
   "source": [
    "print(f'Number of participants with fMRI time series: {df_fMRI.shape[0]}')\n",
    "for c in judgment_columns:\n",
    "    n = sum(df_fMRI[c]==True)\n",
    "    print(f'Number of participants with {c}: {n}')\n",
    "print(f'Number of participants with anxiety symptom and fMRI time series: {anxiety_fMRI_eid.shape[0]}')\n",
    "print(f'Number of participants with only history anxiety symptom and fMRI time series: {13324 - 7799}')"
   ],
   "id": "7f29c3c6c5a1bf2f",
   "outputs": [
    {
     "name": "stdout",
     "output_type": "stream",
     "text": [
      "Number of participants with fMRI time series: 40396\n",
      "Number of participants with history_anxiety: 1909\n",
      "Number of participants with Diagnosed_ICD10: 1426\n",
      "Number of participants with Diagnosed_ICD9: 856\n",
      "Number of participants with Self_Reported_diagnosis: 2025\n",
      "Number of participants with Self_Reported_Treatment: 6673\n",
      "Number of participants with Self_Reported_MedicalCondition: 1096\n",
      "Number of participants with Current_Anxiety: 7799\n",
      "Number of participants with anxiety symptom and fMRI time series: 13839\n",
      "Number of participants with only history anxiety symptom and fMRI time series: 5525\n"
     ]
    }
   ],
   "execution_count": 83
  },
  {
   "metadata": {
    "ExecuteTime": {
     "end_time": "2024-10-21T18:24:29.494180Z",
     "start_time": "2024-10-21T18:24:28.951342Z"
    }
   },
   "cell_type": "code",
   "source": [
    "history_columns = ['history_anxiety', 'Diagnosed_ICD10', 'Diagnosed_ICD9', 'Self_Reported_diagnosis', 'Self_Reported_Treatment', 'Self_Reported_MedicalCondition', 'Current_Anxiety', ]\n",
    "current_columns = 'Current_Anxiety'\n",
    "df_fMRI['historical_anxiety'] = df_fMRI[history_columns].apply(lambda row: (row == True).any(), axis=1).replace((1,0),('True','False'))"
   ],
   "id": "1fb985114a43ed11",
   "outputs": [],
   "execution_count": 118
  },
  {
   "metadata": {},
   "cell_type": "markdown",
   "source": "",
   "id": "1a1093e956025313"
  },
  {
   "metadata": {
    "ExecuteTime": {
     "end_time": "2024-10-21T19:01:19.256398Z",
     "start_time": "2024-10-21T19:01:18.673650Z"
    }
   },
   "cell_type": "code",
   "source": [
    "#history_columns = ['history_anxiety', 'Diagnosed_ICD10', 'Diagnosed_ICD9','Current_Anxiety']\n",
    "hospital_columns = ['Diagnosed_ICD10', 'Diagnosed_ICD9']\n",
    "df_fMRI['hospital_anxiety'] = df_fMRI[hospital_columns].apply(lambda row: (row == True).any(), axis=1).replace((1,0),('True','False'))\n",
    "sum((df_fMRI['hospital_anxiety'] == True))"
   ],
   "id": "7a9debab63aafee",
   "outputs": [
    {
     "data": {
      "text/plain": [
       "2275"
      ]
     },
     "execution_count": 124,
     "metadata": {},
     "output_type": "execute_result"
    }
   ],
   "execution_count": 124
  },
  {
   "metadata": {
    "ExecuteTime": {
     "end_time": "2024-10-21T19:02:05.229580Z",
     "start_time": "2024-10-21T19:02:04.657802Z"
    }
   },
   "cell_type": "code",
   "source": [
    "#history_columns = ['history_anxiety', 'Diagnosed_ICD10', 'Diagnosed_ICD9','Current_Anxiety']\n",
    "hospital_current_columns = ['hospital_anxiety', 'Current_Anxiety']\n",
    "df_fMRI['hospital_current_anxiety'] = df_fMRI[hospital_current_columns].apply(lambda row: (row == True).all(), axis=1).replace((1,0),('True','False'))\n",
    "sum((df_fMRI['hospital_current_anxiety'] == True))"
   ],
   "id": "a9b01df3f4794130",
   "outputs": [
    {
     "data": {
      "text/plain": [
       "675"
      ]
     },
     "execution_count": 125,
     "metadata": {},
     "output_type": "execute_result"
    }
   ],
   "execution_count": 125
  },
  {
   "metadata": {
    "ExecuteTime": {
     "end_time": "2024-10-21T20:20:02.718119Z",
     "start_time": "2024-10-21T20:20:02.119877Z"
    }
   },
   "cell_type": "code",
   "source": [
    "#history_columns = ['history_anxiety', 'Diagnosed_ICD10', 'Diagnosed_ICD9','Current_Anxiety']\n",
    "hospital_not_now_columns = ['hospital_anxiety', 'Current_no_Anxiety']\n",
    "df_fMRI['hospital_not_now'] = df_fMRI[hospital_not_now_columns].apply(lambda row: (row == True).all(), axis=1).replace((1,0),('True','False'))\n",
    "hospital_not_now = sum((df_fMRI['hospital_not_now'] == True))\n",
    "print(f'Number of participants with hospital records but not current anxiety: {hospital_not_now}')"
   ],
   "id": "31108b8dadf60445",
   "outputs": [
    {
     "name": "stdout",
     "output_type": "stream",
     "text": [
      "Number of participants with hospital records but not current anxiety: 772\n"
     ]
    }
   ],
   "execution_count": 131
  },
  {
   "metadata": {
    "ExecuteTime": {
     "end_time": "2024-10-21T20:37:56.854026Z",
     "start_time": "2024-10-21T20:37:56.849945Z"
    }
   },
   "cell_type": "code",
   "source": [
    "# define controls\n",
    "control_fields = ['20544','20002','20514','20510','20517','20519','20511','20507','20508','20518','20513',\\\n",
    "                 '20506','20509','20520','20515','20516','20505','20512']\n",
    "control_fields_fields_name = [fields_for_id_x(field) for field in control_fields]\n",
    "control_items = ['eid']\n",
    "total_items = participants_withfMRI.columns.values\n",
    "for item in control_fields_fields_name:\n",
    "    l = len(item)\n",
    "    t = []\n",
    "    for c in total_items:\n",
    "        if c[:l+1] == item + '-':\n",
    "            t.append(c)\n",
    "            control_items.append(c)\n",
    "    if len(t) == 0:\n",
    "        print(item,'not exits')"
   ],
   "id": "9cfb42b7768b52c6",
   "outputs": [
    {
     "name": "stdout",
     "output_type": "stream",
     "text": [
      "p20544 not exits\n",
      "p20002 not exits\n",
      "p20514 not exits\n",
      "p20510 not exits\n",
      "p20517 not exits\n",
      "p20519 not exits\n",
      "p20511 not exits\n",
      "p20507 not exits\n",
      "p20508 not exits\n",
      "p20518 not exits\n",
      "p20513 not exits\n",
      "p20506 not exits\n",
      "p20509 not exits\n",
      "p20520 not exits\n",
      "p20515 not exits\n",
      "p20516 not exits\n",
      "p20505 not exits\n",
      "p20512 not exits\n"
     ]
    }
   ],
   "execution_count": 135
  },
  {
   "metadata": {
    "ExecuteTime": {
     "end_time": "2024-10-21T20:38:07.101366Z",
     "start_time": "2024-10-21T20:38:07.099308Z"
    }
   },
   "cell_type": "code",
   "source": "participants_withfMRI.columns.values",
   "id": "d950f093818d4ee1",
   "outputs": [
    {
     "data": {
      "text/plain": [
       "array(['eid', 'p31', 'p21003_i2', 'p20016_i2', 'p6138_i2', 'p2050_i2',\n",
       "       'p2060_i2', 'p2070_i2', 'p20544', 'p20436', 'p20439', 'p20440',\n",
       "       'p20446', 'p20441', 'p20449', 'p20536', 'p20532', 'p20435',\n",
       "       'p20450', 'p20437', 'p20421', 'p20420', 'p20538', 'p20425',\n",
       "       'p20542', 'p20543', 'p20540', 'p20541', 'p20539', 'p20537',\n",
       "       'p20418', 'p20426', 'p20423', 'p20429', 'p20419', 'p20422',\n",
       "       'p20417', 'p20427', 'p20514', 'p20510', 'p20517', 'p20519',\n",
       "       'p20511', 'p20507', 'p20508', 'p20518', 'p20513', 'p20506',\n",
       "       'p20509', 'p20520', 'p20515', 'p20516', 'p20505', 'p20512',\n",
       "       'p41270', 'p41271', 'p31016_i2', 'p31016_i3', 'p31018_i2',\n",
       "       'p31018_i3', 'p31019_i2', 'p31019_i3', 'p31015_i2', 'p31015_i3',\n",
       "       'p31014_i2', 'p31014_i3', 'p29000', 'p20002_i2_a0', 'p20002_i2_a1',\n",
       "       'p20002_i2_a2', 'p20002_i2_a3', 'p20002_i2_a4', 'p20002_i2_a5',\n",
       "       'p20002_i2_a6', 'p20002_i2_a7', 'p20002_i2_a8', 'p20002_i2_a9',\n",
       "       'p20002_i2_a10', 'p20002_i2_a11', 'p20002_i2_a12', 'p20002_i2_a13',\n",
       "       'p20002_i2_a14', 'p20002_i2_a15', 'p20002_i2_a16', 'p20002_i2_a17',\n",
       "       'p20002_i2_a18', 'p20002_i2_a19', 'p20002_i2_a20', 'p20002_i2_a21',\n",
       "       'p20002_i2_a22', 'p20002_i2_a23', 'p20002_i2_a24', 'p20002_i2_a25',\n",
       "       'p20002_i2_a26', 'p20002_i2_a27', 'p20002_i2_a28', 'p20002_i2_a29',\n",
       "       'p20002_i2_a30', 'p20002_i2_a31', 'p20002_i2_a32', 'p20002_i2_a33',\n",
       "       'p21062'], dtype=object)"
      ]
     },
     "execution_count": 136,
     "metadata": {},
     "output_type": "execute_result"
    }
   ],
   "execution_count": 136
  },
  {
   "metadata": {},
   "cell_type": "code",
   "outputs": [],
   "execution_count": null,
   "source": "",
   "id": "3988059873597ca"
  }
 ],
 "metadata": {
  "kernelspec": {
   "display_name": "Python 3",
   "language": "python",
   "name": "python3"
  },
  "language_info": {
   "codemirror_mode": {
    "name": "ipython",
    "version": 2
   },
   "file_extension": ".py",
   "mimetype": "text/x-python",
   "name": "python",
   "nbconvert_exporter": "python",
   "pygments_lexer": "ipython2",
   "version": "2.7.6"
  }
 },
 "nbformat": 4,
 "nbformat_minor": 5
}
