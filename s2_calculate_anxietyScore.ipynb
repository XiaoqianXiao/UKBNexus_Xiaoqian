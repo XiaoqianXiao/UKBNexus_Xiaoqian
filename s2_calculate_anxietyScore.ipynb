{
 "cells": [
  {
   "cell_type": "code",
   "id": "initial_id",
   "metadata": {
    "collapsed": true,
    "ExecuteTime": {
     "end_time": "2024-09-18T18:59:44.743819Z",
     "start_time": "2024-09-18T18:59:44.742299Z"
    }
   },
   "source": [
    "import pandas as pd\n",
    "import numpy as np\n",
    "import os\n",
    "import re\n",
    "import ast"
   ],
   "outputs": [],
   "execution_count": 206
  },
  {
   "metadata": {
    "ExecuteTime": {
     "end_time": "2024-09-18T18:59:46.248378Z",
     "start_time": "2024-09-18T18:59:44.751416Z"
    }
   },
   "cell_type": "code",
   "source": [
    "data_dir = '/Users/xiaoqianxiao/UKB/data'\n",
    "participantsInfo_file = 'participants.csv'\n",
    "participantsInfo_file_path = os.path.join(data_dir,participantsInfo_file)\n",
    "participantsInfo = pd.read_csv(participantsInfo_file_path)"
   ],
   "id": "f06b9678fe8ec083",
   "outputs": [],
   "execution_count": 207
  },
  {
   "metadata": {
    "ExecuteTime": {
     "end_time": "2024-09-18T18:59:46.251466Z",
     "start_time": "2024-09-18T18:59:46.249194Z"
    }
   },
   "cell_type": "code",
   "source": [
    "#demographic factors' field ids, including: eid, sex, age at the first scan, IQ and EA (5)\n",
    "demographic_fields = ['31','21003_2','20016_2','6138_2']\n",
    "# current depression or anxiety status while scanning (3)\n",
    "current_status_fields = ['2050_2','2060_2','2070_2']\n",
    "# Self_Reported_Mental_Health (1)\n",
    "Self_Reported_Mental_Health_fields = ['29000','20002_i2','21062']\n",
    "# Ever_Diagnosed_Mental_Health_Problem (1)\n",
    "Ever_Diagnosed_Mental_Health_Problem_fields = ['20544']\n",
    "# Self reported history depression: CIDI (13)\n",
    "history_depression_fields = ['20436','20439','20440','20446','20441','20449','20536','20532','20435','20450','20437']\n",
    "# Self reported history anxiety: CIDI (18)\n",
    "history_anxiety_fields = ['20421','20420','20538','20425','20542','20543','20540','20541','20539','20537','20418','20426','20423','20429','20419','20422','20417','20427']\n",
    "# PHQ (9)\n",
    "PHQ_fields = ['20514','20510','20517','20519','20511','20507','20508','20518','20513']\n",
    "# GAD7 (7)\n",
    "GAD7_fields = ['20506','20509','20520','20515','20516','20505','20512']\n",
    "# hospital data: ICD10 and ICD9 (2)\n",
    "hospital_data_fields = ['41270','41271']\n",
    "# fMRI data\n",
    "fMRI_fields = ['31016','31018','31019','31015','31014']"
   ],
   "id": "c35adaa7bb58643c",
   "outputs": [],
   "execution_count": 208
  },
  {
   "metadata": {
    "ExecuteTime": {
     "end_time": "2024-09-18T18:59:46.253993Z",
     "start_time": "2024-09-18T18:59:46.251974Z"
    }
   },
   "cell_type": "code",
   "source": [
    "def fields_for_id_x(field_id):\n",
    "    field_id = str(field_id)\n",
    "    field_items = re.split(r'[,\\s_]+', field_id)\n",
    "    if len(field_items) == 1:\n",
    "        fields = 'p{}'.format(field_items[0])\n",
    "    elif len(field_items) == 2:\n",
    "        fields = 'p{}_i{}'.format(field_items[0], field_items[1])\n",
    "    return fields\n",
    "\n",
    "def extract_strings(string_patten, strings_list):\n",
    "    # Filter strings that start with \"F4\"\n",
    "    return [s for s in strings_list if s.startswith(string_patten)]\n",
    "\n",
    "def safe_literal_eval(x):\n",
    "    try:\n",
    "        return ast.literal_eval(x) if isinstance(x, str) else x\n",
    "    except (ValueError, SyntaxError):\n",
    "        return []"
   ],
   "id": "d46fc28bf42f1b89",
   "outputs": [],
   "execution_count": 209
  },
  {
   "metadata": {
    "ExecuteTime": {
     "end_time": "2024-09-18T18:59:46.260686Z",
     "start_time": "2024-09-18T18:59:46.255050Z"
    }
   },
   "cell_type": "code",
   "source": "participantsInfo.head()",
   "id": "8726d61777aec74d",
   "outputs": [
    {
     "data": {
      "text/plain": [
       "       eid  p31  p21003_i2  p20016_i2 p6138_i2  p2050_i2  p2060_i2  p2070_i2  \\\n",
       "0  1000011    0        NaN        NaN      NaN       NaN       NaN       NaN   \n",
       "1  1000047    1       65.0        5.0      [3]       1.0       1.0       1.0   \n",
       "2  1000190    0        NaN        NaN      NaN       NaN       NaN       NaN   \n",
       "3  1000240    1        NaN        NaN      NaN       NaN       NaN       NaN   \n",
       "4  1000258    1        NaN        NaN      NaN       NaN       NaN       NaN   \n",
       "\n",
       "  p20544  p20436  ...  p20002_i2_a25  p20002_i2_a26  p20002_i2_a27  \\\n",
       "0    NaN     3.0  ...            NaN            NaN            NaN   \n",
       "1    NaN     NaN  ...            NaN            NaN            NaN   \n",
       "2    NaN     NaN  ...            NaN            NaN            NaN   \n",
       "3    NaN     NaN  ...            NaN            NaN            NaN   \n",
       "4    NaN     NaN  ...            NaN            NaN            NaN   \n",
       "\n",
       "   p20002_i2_a28  p20002_i2_a29  p20002_i2_a30  p20002_i2_a31  p20002_i2_a32  \\\n",
       "0            NaN            NaN            NaN            NaN            NaN   \n",
       "1            NaN            NaN            NaN            NaN            NaN   \n",
       "2            NaN            NaN            NaN            NaN            NaN   \n",
       "3            NaN            NaN            NaN            NaN            NaN   \n",
       "4            NaN            NaN            NaN            NaN            NaN   \n",
       "\n",
       "   p20002_i2_a33  p21062  \n",
       "0            NaN     0.0  \n",
       "1            NaN     0.0  \n",
       "2            NaN     NaN  \n",
       "3            NaN     NaN  \n",
       "4            NaN     NaN  \n",
       "\n",
       "[5 rows x 102 columns]"
      ],
      "text/html": [
       "<div>\n",
       "<style scoped>\n",
       "    .dataframe tbody tr th:only-of-type {\n",
       "        vertical-align: middle;\n",
       "    }\n",
       "\n",
       "    .dataframe tbody tr th {\n",
       "        vertical-align: top;\n",
       "    }\n",
       "\n",
       "    .dataframe thead th {\n",
       "        text-align: right;\n",
       "    }\n",
       "</style>\n",
       "<table border=\"1\" class=\"dataframe\">\n",
       "  <thead>\n",
       "    <tr style=\"text-align: right;\">\n",
       "      <th></th>\n",
       "      <th>eid</th>\n",
       "      <th>p31</th>\n",
       "      <th>p21003_i2</th>\n",
       "      <th>p20016_i2</th>\n",
       "      <th>p6138_i2</th>\n",
       "      <th>p2050_i2</th>\n",
       "      <th>p2060_i2</th>\n",
       "      <th>p2070_i2</th>\n",
       "      <th>p20544</th>\n",
       "      <th>p20436</th>\n",
       "      <th>...</th>\n",
       "      <th>p20002_i2_a25</th>\n",
       "      <th>p20002_i2_a26</th>\n",
       "      <th>p20002_i2_a27</th>\n",
       "      <th>p20002_i2_a28</th>\n",
       "      <th>p20002_i2_a29</th>\n",
       "      <th>p20002_i2_a30</th>\n",
       "      <th>p20002_i2_a31</th>\n",
       "      <th>p20002_i2_a32</th>\n",
       "      <th>p20002_i2_a33</th>\n",
       "      <th>p21062</th>\n",
       "    </tr>\n",
       "  </thead>\n",
       "  <tbody>\n",
       "    <tr>\n",
       "      <th>0</th>\n",
       "      <td>1000011</td>\n",
       "      <td>0</td>\n",
       "      <td>NaN</td>\n",
       "      <td>NaN</td>\n",
       "      <td>NaN</td>\n",
       "      <td>NaN</td>\n",
       "      <td>NaN</td>\n",
       "      <td>NaN</td>\n",
       "      <td>NaN</td>\n",
       "      <td>3.0</td>\n",
       "      <td>...</td>\n",
       "      <td>NaN</td>\n",
       "      <td>NaN</td>\n",
       "      <td>NaN</td>\n",
       "      <td>NaN</td>\n",
       "      <td>NaN</td>\n",
       "      <td>NaN</td>\n",
       "      <td>NaN</td>\n",
       "      <td>NaN</td>\n",
       "      <td>NaN</td>\n",
       "      <td>0.0</td>\n",
       "    </tr>\n",
       "    <tr>\n",
       "      <th>1</th>\n",
       "      <td>1000047</td>\n",
       "      <td>1</td>\n",
       "      <td>65.0</td>\n",
       "      <td>5.0</td>\n",
       "      <td>[3]</td>\n",
       "      <td>1.0</td>\n",
       "      <td>1.0</td>\n",
       "      <td>1.0</td>\n",
       "      <td>NaN</td>\n",
       "      <td>NaN</td>\n",
       "      <td>...</td>\n",
       "      <td>NaN</td>\n",
       "      <td>NaN</td>\n",
       "      <td>NaN</td>\n",
       "      <td>NaN</td>\n",
       "      <td>NaN</td>\n",
       "      <td>NaN</td>\n",
       "      <td>NaN</td>\n",
       "      <td>NaN</td>\n",
       "      <td>NaN</td>\n",
       "      <td>0.0</td>\n",
       "    </tr>\n",
       "    <tr>\n",
       "      <th>2</th>\n",
       "      <td>1000190</td>\n",
       "      <td>0</td>\n",
       "      <td>NaN</td>\n",
       "      <td>NaN</td>\n",
       "      <td>NaN</td>\n",
       "      <td>NaN</td>\n",
       "      <td>NaN</td>\n",
       "      <td>NaN</td>\n",
       "      <td>NaN</td>\n",
       "      <td>NaN</td>\n",
       "      <td>...</td>\n",
       "      <td>NaN</td>\n",
       "      <td>NaN</td>\n",
       "      <td>NaN</td>\n",
       "      <td>NaN</td>\n",
       "      <td>NaN</td>\n",
       "      <td>NaN</td>\n",
       "      <td>NaN</td>\n",
       "      <td>NaN</td>\n",
       "      <td>NaN</td>\n",
       "      <td>NaN</td>\n",
       "    </tr>\n",
       "    <tr>\n",
       "      <th>3</th>\n",
       "      <td>1000240</td>\n",
       "      <td>1</td>\n",
       "      <td>NaN</td>\n",
       "      <td>NaN</td>\n",
       "      <td>NaN</td>\n",
       "      <td>NaN</td>\n",
       "      <td>NaN</td>\n",
       "      <td>NaN</td>\n",
       "      <td>NaN</td>\n",
       "      <td>NaN</td>\n",
       "      <td>...</td>\n",
       "      <td>NaN</td>\n",
       "      <td>NaN</td>\n",
       "      <td>NaN</td>\n",
       "      <td>NaN</td>\n",
       "      <td>NaN</td>\n",
       "      <td>NaN</td>\n",
       "      <td>NaN</td>\n",
       "      <td>NaN</td>\n",
       "      <td>NaN</td>\n",
       "      <td>NaN</td>\n",
       "    </tr>\n",
       "    <tr>\n",
       "      <th>4</th>\n",
       "      <td>1000258</td>\n",
       "      <td>1</td>\n",
       "      <td>NaN</td>\n",
       "      <td>NaN</td>\n",
       "      <td>NaN</td>\n",
       "      <td>NaN</td>\n",
       "      <td>NaN</td>\n",
       "      <td>NaN</td>\n",
       "      <td>NaN</td>\n",
       "      <td>NaN</td>\n",
       "      <td>...</td>\n",
       "      <td>NaN</td>\n",
       "      <td>NaN</td>\n",
       "      <td>NaN</td>\n",
       "      <td>NaN</td>\n",
       "      <td>NaN</td>\n",
       "      <td>NaN</td>\n",
       "      <td>NaN</td>\n",
       "      <td>NaN</td>\n",
       "      <td>NaN</td>\n",
       "      <td>NaN</td>\n",
       "    </tr>\n",
       "  </tbody>\n",
       "</table>\n",
       "<p>5 rows × 102 columns</p>\n",
       "</div>"
      ]
     },
     "execution_count": 210,
     "metadata": {},
     "output_type": "execute_result"
    }
   ],
   "execution_count": 210
  },
  {
   "metadata": {
    "ExecuteTime": {
     "end_time": "2024-09-18T18:59:46.263112Z",
     "start_time": "2024-09-18T18:59:46.261263Z"
    }
   },
   "cell_type": "code",
   "source": "participantsInfo.columns",
   "id": "420c130b1e556b67",
   "outputs": [
    {
     "data": {
      "text/plain": [
       "Index(['eid', 'p31', 'p21003_i2', 'p20016_i2', 'p6138_i2', 'p2050_i2',\n",
       "       'p2060_i2', 'p2070_i2', 'p20544', 'p20436',\n",
       "       ...\n",
       "       'p20002_i2_a25', 'p20002_i2_a26', 'p20002_i2_a27', 'p20002_i2_a28',\n",
       "       'p20002_i2_a29', 'p20002_i2_a30', 'p20002_i2_a31', 'p20002_i2_a32',\n",
       "       'p20002_i2_a33', 'p21062'],\n",
       "      dtype='object', length=102)"
      ]
     },
     "execution_count": 211,
     "metadata": {},
     "output_type": "execute_result"
    }
   ],
   "execution_count": 211
  },
  {
   "metadata": {
    "ExecuteTime": {
     "end_time": "2024-09-18T18:59:55.273094Z",
     "start_time": "2024-09-18T18:59:46.263642Z"
    }
   },
   "cell_type": "code",
   "source": [
    "# transfer EA\n",
    "dl = []\n",
    "for i in range(participantsInfo.shape[0]):\n",
    "    # Prefer not to answer\n",
    "    if participantsInfo['p6138_i2'].iloc[i] == -3:\n",
    "        dl.append(participantsInfo.index[i])\n",
    "    if participantsInfo['p6138_i2'].iloc[i] == 1:\n",
    "        participantsInfo['p6138_i2'].iloc[i] = 20\n",
    "    if participantsInfo['p6138_i2'].iloc[i] == 2:\n",
    "        participantsInfo['p6138_i2'].iloc[i] = 13\n",
    "    if participantsInfo['p6138_i2'].iloc[i] == 3:\n",
    "        participantsInfo['p6138_i2'].iloc[i] = 10\n",
    "    if participantsInfo['p6138_i2'].iloc[i] == 4:\n",
    "        participantsInfo['p6138_i2'].iloc[i] = 10\n",
    "    if participantsInfo['p6138_i2'].iloc[i] == 5:\n",
    "        participantsInfo['p6138_i2'].iloc[i] = 19 \n",
    "    if participantsInfo['p6138_i2'].iloc[i] == 6:\n",
    "        participantsInfo['p6138_i2'].iloc[i] = 15\n",
    "    # None of the above\n",
    "    if participantsInfo['p6138_i2'].iloc[i] == -7:\n",
    "        dl.append(participantsInfo.index[i])   \n",
    "participantsInfo.drop(dl,inplace=True)"
   ],
   "id": "74e2660fcaa5ce29",
   "outputs": [],
   "execution_count": 212
  },
  {
   "metadata": {
    "ExecuteTime": {
     "end_time": "2024-09-18T18:59:55.302210Z",
     "start_time": "2024-09-18T18:59:55.273707Z"
    }
   },
   "cell_type": "code",
   "source": [
    "# get subset with participants have fMRI data series:\n",
    "participants_withfMRI = participantsInfo.dropna(subset=['p31016_i2'])\n",
    "print(\"number of participants with fMRI time series: {}\".format(participants_withfMRI.shape[0]))\n",
    "df_fMRI = pd.DataFrame(participants_withfMRI['eid'])"
   ],
   "id": "1d997137b5bb08ff",
   "outputs": [
    {
     "name": "stdout",
     "output_type": "stream",
     "text": [
      "number of participants with fMRI time series: 40396\n"
     ]
    }
   ],
   "execution_count": 213
  },
  {
   "metadata": {
    "ExecuteTime": {
     "end_time": "2024-09-18T18:59:55.581933Z",
     "start_time": "2024-09-18T18:59:55.302743Z"
    }
   },
   "cell_type": "code",
   "source": [
    " # select individuals with depression or anxiety \n",
    "l1 = []\n",
    "l2 = []\n",
    "for i in range(participants_withfMRI.shape[0]):\n",
    "    #depression\n",
    "    if participants_withfMRI['p2050_i2'].iloc[i] >= 3 or participants_withfMRI['p2060_i2'].iloc[i] >= 3:\n",
    "        l1.append(participants_withfMRI['eid'].iloc[i])\n",
    "    #anxiety\n",
    "    if participants_withfMRI['p2070_i2'].iloc[i] >= 3:\n",
    "        l2.append(participants_withfMRI['eid'].iloc[i])"
   ],
   "id": "418c1db8217ff43",
   "outputs": [],
   "execution_count": 214
  },
  {
   "metadata": {
    "ExecuteTime": {
     "end_time": "2024-09-18T18:59:55.584385Z",
     "start_time": "2024-09-18T18:59:55.582562Z"
    }
   },
   "cell_type": "code",
   "source": [
    "# Define history anxiety subjects\n",
    "# Initialize an empty list to store all items\n",
    "GAD_fields_name = []\n",
    "# Iterate over each field_id in the list of all_fields_ids\n",
    "for field_id in GAD7_fields:\n",
    "    # Get the list of items for the current field_id using fields_for_id_x\n",
    "    name_for_field = fields_for_id_x(field_id)\n",
    "    GAD_fields_name.append(name_for_field)\n",
    "print(GAD_fields_name)"
   ],
   "id": "9c3bd37a2751237",
   "outputs": [
    {
     "name": "stdout",
     "output_type": "stream",
     "text": [
      "['p20506', 'p20509', 'p20520', 'p20515', 'p20516', 'p20505', 'p20512']\n"
     ]
    }
   ],
   "execution_count": 215
  },
  {
   "metadata": {
    "ExecuteTime": {
     "end_time": "2024-09-18T18:59:55.587295Z",
     "start_time": "2024-09-18T18:59:55.585988Z"
    }
   },
   "cell_type": "code",
   "source": "history_anxiety_fields = ['20421','20420','20538','20425','20542','20543','20540','20541','20539','20537','20418','20426','20423','20429','20419','20422','20417','20427']",
   "id": "f53f7feb82548d5e",
   "outputs": [],
   "execution_count": 216
  },
  {
   "metadata": {
    "ExecuteTime": {
     "end_time": "2024-09-18T18:59:59.613211Z",
     "start_time": "2024-09-18T18:59:55.587890Z"
    }
   },
   "cell_type": "code",
   "source": [
    "df_fMRI['history_anxiety_num_criterias'] = None\n",
    "df_fMRI['history_anxiety_num_symptoms'] = None\n",
    "history_anxiety_subjs = []\n",
    "for i in range(participants_withfMRI.shape[0]):\n",
    "    num_criterias = 0\n",
    "    if participants_withfMRI['p20421'].iloc[i] == 1:\n",
    "        num_criterias = num_criterias + 1\n",
    "    if participants_withfMRI['p20420'].iloc[i] >= 6 or participants_withfMRI['p20420'].iloc[i] == -999:\n",
    "        num_criterias = num_criterias + 1\n",
    "    if participants_withfMRI['p20538'].iloc[i] == 1:\n",
    "        num_criterias = num_criterias + 1\n",
    "    if participants_withfMRI['p20425'].iloc[i] == 1 or participants_withfMRI['p20542'].iloc[i] == 1:\n",
    "        num_criterias = num_criterias + 1\n",
    "    if participants_withfMRI['p20543'].iloc[i] == 2 or participants_withfMRI['p20540'].iloc[i] == 1:\n",
    "        num_criterias = num_criterias + 1\n",
    "    if participants_withfMRI['p20541'].iloc[i] == 1 or participants_withfMRI['p20539'].iloc[i] == 3 or participants_withfMRI['p20537'].iloc[i] == 3:\n",
    "        num_criterias = num_criterias + 1\n",
    "    if participants_withfMRI['p20418'].iloc[i] >= 2:\n",
    "        num_criterias = num_criterias + 1\n",
    "    \n",
    "    # 3 somatic symptoms out of\n",
    "    num_symptoms = 0\n",
    "    if participants_withfMRI['p20426'].iloc[i] == 1:\n",
    "        num_symptoms = num_symptoms + 1\n",
    "    if participants_withfMRI['p20423'].iloc[i] == 1:\n",
    "        num_symptoms = num_symptoms + 1\n",
    "    if participants_withfMRI['p20429'].iloc[i] == 1:\n",
    "        num_symptoms = num_symptoms + 1\n",
    "    if participants_withfMRI['p20419'].iloc[i] == 1:\n",
    "        num_symptoms = num_symptoms + 1\n",
    "    if participants_withfMRI['p20422'].iloc[i] == 1:\n",
    "        num_symptoms = num_symptoms + 1\n",
    "    if participants_withfMRI['p20417'].iloc[i] == 1:\n",
    "        num_symptoms = num_symptoms + 1\n",
    "    if participants_withfMRI['p20427'].iloc[i] == 1:\n",
    "        num_symptoms = num_symptoms + 1\n",
    "        \n",
    "    if num_symptoms >= 3:\n",
    "        num_criterias = num_criterias + 1\n",
    "    \n",
    "    if num_criterias == 8:\n",
    "        history_anxiety_subjs.append(participants_withfMRI['eid'].iloc[i])\n",
    "        \n",
    "    df_fMRI.iloc[i, df_fMRI.columns.get_loc('history_anxiety_num_criterias')] = num_criterias\n",
    "    df_fMRI.iloc[i, df_fMRI.columns.get_loc('history_anxiety_num_symptoms')] = num_symptoms\n",
    "df_fMRI['history_anxiety'] = df_fMRI['history_anxiety_num_criterias'].apply(lambda x: (x == 8)).replace((1,0),('True','False'))\n",
    "print(\"number of history anxiety: \", df_fMRI.loc[df_fMRI['history_anxiety']==True, 'history_anxiety'].shape[0])"
   ],
   "id": "75ac926e9008ec4f",
   "outputs": [
    {
     "name": "stdout",
     "output_type": "stream",
     "text": [
      "number of history anxiety:  1909\n"
     ]
    }
   ],
   "execution_count": 217
  },
  {
   "metadata": {
    "ExecuteTime": {
     "end_time": "2024-09-18T18:59:59.619762Z",
     "start_time": "2024-09-18T18:59:59.613741Z"
    }
   },
   "cell_type": "code",
   "source": "df_fMRI['GAD7_score'] = participants_withfMRI[GAD_fields_name].sum(axis = 1)",
   "id": "1a8e7e0ebaef3898",
   "outputs": [],
   "execution_count": 218
  },
  {
   "metadata": {
    "ExecuteTime": {
     "end_time": "2024-09-18T18:59:59.625985Z",
     "start_time": "2024-09-18T18:59:59.620351Z"
    }
   },
   "cell_type": "code",
   "source": [
    "# Current anxiety\n",
    "df_fMRI['GAD7_score'] = participants_withfMRI[GAD_fields_name].sum(axis = 1)\n",
    "df_fMRI['Current_Anxiety'] = False\n",
    "df_fMRI.loc[df_fMRI['GAD7_score'] >= 10,'Current_Anxiety'] = True"
   ],
   "id": "f414958c030fea28",
   "outputs": [],
   "execution_count": 219
  },
  {
   "metadata": {
    "ExecuteTime": {
     "end_time": "2024-09-18T19:00:00.489162Z",
     "start_time": "2024-09-18T18:59:59.626495Z"
    }
   },
   "cell_type": "code",
   "source": [
    "# hospital data-linkage: \n",
    "# Data-Field 41270 \n",
    "df_fMRI['ICD10'] = participants_withfMRI['p41270'].apply(lambda x: extract_strings('F4', safe_literal_eval(x)) if isinstance(safe_literal_eval(x), list) else [])\n",
    "df_fMRI['Diagnosed_ICD10'] = False\n",
    "df_fMRI.loc[df_fMRI['ICD10'].apply(lambda x: x != []), 'Diagnosed_ICD10'] = True\n",
    "print('number of Diagnosed in ICD10:', df_fMRI['Diagnosed_ICD10'].sum())\n",
    "# Data-Field 41271 \n",
    "df_fMRI['ICD9'] = participants_withfMRI['p41271'].apply(lambda x: extract_strings('300', safe_literal_eval(x)) if isinstance(safe_literal_eval(x), list) else [])\n",
    "df_fMRI['Diagnosed_ICD9'] = False\n",
    "df_fMRI.loc[df_fMRI['ICD9'].apply(lambda x: x != []), 'Diagnosed_ICD9'] = True\n",
    "print('number of Diagnosed in ICD9:', df_fMRI['Diagnosed_ICD9'].sum())"
   ],
   "id": "fd9bcc28e63d503c",
   "outputs": [
    {
     "name": "stdout",
     "output_type": "stream",
     "text": [
      "number of Diagnosed in ICD10: 1518\n",
      "number of Diagnosed in ICD9: 3\n"
     ]
    }
   ],
   "execution_count": 220
  },
  {
   "metadata": {
    "ExecuteTime": {
     "end_time": "2024-09-18T19:00:03.343334Z",
     "start_time": "2024-09-18T19:00:00.489665Z"
    }
   },
   "cell_type": "code",
   "source": [
    "# Self reported\n",
    "# 1. self-reporting a lifetime professional diagnosis of one of the core five anxiety disorders [Data-Field 29000]\n",
    "Self_Reported_MedicalCondition = participants_withfMRI.filter(like='29000')\n",
    "anxiety_code = list(range(10,16))\n",
    "\n",
    "for i in range(len(anxiety_code)):\n",
    "    code = anxiety_code[i]\n",
    "    #print(code)\n",
    "    added_item = 'Self_Reported_diagnosis'+ str(code)\n",
    "    df_fMRI[added_item] = Self_Reported_MedicalCondition['p29000'].apply(lambda row: (code in safe_literal_eval(row)) if isinstance(safe_literal_eval(row), list) else [])\n",
    "\n",
    "columns_Self_Reported_diagnosis = df_fMRI.filter(like='Self_Reported_diagnosis')\n",
    "df_fMRI['Self_Reported_diagnosis'] = columns_Self_Reported_diagnosis.apply(lambda row: (row == True).any(), axis=1).replace((1,0),('True','False'))\n",
    "print(\"number of self-reporting of diagnosis: \", df_fMRI.loc[df_fMRI['Self_Reported_diagnosis']==True, 'Self_Reported_diagnosis'].shape[0])"
   ],
   "id": "8dadc14480d77614",
   "outputs": [
    {
     "name": "stdout",
     "output_type": "stream",
     "text": [
      "number of self-reporting of diagnosis:  2025\n"
     ]
    }
   ],
   "execution_count": 221
  },
  {
   "metadata": {
    "ExecuteTime": {
     "end_time": "2024-09-18T19:00:05.042551Z",
     "start_time": "2024-09-18T19:00:03.343940Z"
    }
   },
   "cell_type": "code",
   "source": [
    "# 2. Self-reporting of medical condition:Non-cancer illness code, self-reported[Data-Field 20002]\n",
    "Self_Reported_MedicalCondition = participants_withfMRI.filter(like='20002_i2')\n",
    "anxiety_code = [1615,1287]\n",
    "for i in range(len(anxiety_code)):\n",
    "    code = anxiety_code[i]\n",
    "    #print(code)\n",
    "    added_item = 'Self_Reported_MedicalCondition'+ str(code)\n",
    "    df_fMRI[added_item] = Self_Reported_MedicalCondition.apply(lambda row: (row == code).any(), axis=1).replace((1,0),('True','False'))\n",
    "    \n",
    "columns_Self_Reported_MedicalCondition = df_fMRI.filter(like='Self_Reported_MedicalCondition')\n",
    "df_fMRI['Self_Reported_MedicalCondition'] = columns_Self_Reported_MedicalCondition.apply(lambda row: (row == True).any(), axis=1).replace((1,0),('True','False'))\n",
    "print(\"number of self-reporting of medical conditions: \", df_fMRI.loc[df_fMRI['Self_Reported_MedicalCondition']==True, 'Self_Reported_MedicalCondition'].shape[0])"
   ],
   "id": "9d8848412e2db41e",
   "outputs": [
    {
     "name": "stdout",
     "output_type": "stream",
     "text": [
      "number of self-reporting of medical conditions:  1096\n"
     ]
    }
   ],
   "execution_count": 222
  },
  {
   "metadata": {
    "ExecuteTime": {
     "end_time": "2024-09-18T19:00:05.050255Z",
     "start_time": "2024-09-18T19:00:05.043124Z"
    }
   },
   "cell_type": "code",
   "source": [
    "# 3. Self-reporting of Ever been offered/sought treatment for anxiety [Data-Field 21062]\n",
    "Self_Reported_MedicalCondition = participants_withfMRI.filter(like='21062')\n",
    "anxiety_code = [1]\n",
    "for i in range(len(anxiety_code)):\n",
    "    code = anxiety_code[i]\n",
    "    print(code)\n",
    "    added_item = 'Self_Reported_Treatment'\n",
    "    df_fMRI[added_item] = Self_Reported_MedicalCondition['p21062'].apply(lambda row: (row == code)).replace((1,0),('True','False'))\n",
    "print(\"number of self-reporting of medical conditions: \", df_fMRI.loc[df_fMRI[added_item]==True, added_item].shape[0])"
   ],
   "id": "6456f976d5beae1c",
   "outputs": [
    {
     "name": "stdout",
     "output_type": "stream",
     "text": [
      "1\n",
      "number of self-reporting of medical conditions:  6673\n"
     ]
    }
   ],
   "execution_count": 223
  },
  {
   "metadata": {
    "ExecuteTime": {
     "end_time": "2024-09-18T19:00:05.052764Z",
     "start_time": "2024-09-18T19:00:05.050745Z"
    }
   },
   "cell_type": "code",
   "source": "df_fMRI.columns",
   "id": "4afff69bb7fbb328",
   "outputs": [
    {
     "data": {
      "text/plain": [
       "Index(['eid', 'history_anxiety_num_criterias', 'history_anxiety_num_symptoms',\n",
       "       'history_anxiety', 'GAD7_score', 'Current_Anxiety', 'ICD10',\n",
       "       'Diagnosed_ICD10', 'ICD9', 'Diagnosed_ICD9',\n",
       "       'Self_Reported_diagnosis10', 'Self_Reported_diagnosis11',\n",
       "       'Self_Reported_diagnosis12', 'Self_Reported_diagnosis13',\n",
       "       'Self_Reported_diagnosis14', 'Self_Reported_diagnosis15',\n",
       "       'Self_Reported_diagnosis', 'Self_Reported_MedicalCondition1615',\n",
       "       'Self_Reported_MedicalCondition1287', 'Self_Reported_MedicalCondition',\n",
       "       'Self_Reported_Treatment'],\n",
       "      dtype='object')"
      ]
     },
     "execution_count": 224,
     "metadata": {},
     "output_type": "execute_result"
    }
   ],
   "execution_count": 224
  },
  {
   "metadata": {
    "ExecuteTime": {
     "end_time": "2024-09-18T19:00:05.622488Z",
     "start_time": "2024-09-18T19:00:05.053269Z"
    }
   },
   "cell_type": "code",
   "source": [
    "# subjects with anxiety\n",
    "judgment_columns = ['history_anxiety', 'Current_Anxiety', 'Diagnosed_ICD10', 'Diagnosed_ICD9', 'Self_Reported_diagnosis', 'Self_Reported_Treatment', 'Self_Reported_MedicalCondition']\n",
    "df_fMRI['anxiety'] = df_fMRI[judgment_columns].apply(lambda row: (row == True).any(), axis=1).replace((1,0),('True','False'))\n",
    "print(\"number of anxiety: \", df_fMRI.loc[df_fMRI['anxiety']==True, 'anxiety'].shape[0])"
   ],
   "id": "bbb5ffc16443d9c5",
   "outputs": [
    {
     "name": "stdout",
     "output_type": "stream",
     "text": [
      "number of anxiety:  13324\n"
     ]
    }
   ],
   "execution_count": 225
  },
  {
   "metadata": {
    "ExecuteTime": {
     "end_time": "2024-09-18T19:34:19.083949Z",
     "start_time": "2024-09-18T19:34:19.077953Z"
    }
   },
   "cell_type": "code",
   "source": [
    "anxiety_fMRI_eid = df_fMRI.loc[df_fMRI['anxiety']==True, 'eid']\n",
    "output_path = os.path.join(data_dir, 'needed_participants.csv')\n",
    "anxiety_fMRI_eid.to_csv(output_path, index=False)"
   ],
   "id": "c57ab18921223f60",
   "outputs": [],
   "execution_count": 230
  },
  {
   "metadata": {
    "ExecuteTime": {
     "end_time": "2024-09-18T21:59:09.614582Z",
     "start_time": "2024-09-18T21:59:09.382414Z"
    }
   },
   "cell_type": "code",
   "source": [
    "# get fMRI data path\n",
    "imagingData_file_path = os.path.join(data_dir, 'imaging_eids.csv')\n",
    "imagingInfo = pd.read_csv(imagingData_file_path)\n",
    "df_data = imagingInfo.loc[imagingInfo['eid'].isin(anxiety_fMRI_eid)]\n",
    "\n",
    "output_path = os.path.join(data_dir, 'anxiety_fMRI_participants.csv')\n",
    "df_data.to_csv('anxiety_fMRI_participants.csv', index=False)"
   ],
   "id": "546a96583975db9c",
   "outputs": [],
   "execution_count": 288
  },
  {
   "metadata": {
    "ExecuteTime": {
     "end_time": "2024-09-18T21:52:51.731143Z",
     "start_time": "2024-09-18T21:52:51.728977Z"
    }
   },
   "cell_type": "code",
   "source": "df_data.columns",
   "id": "685b773df6c334d0",
   "outputs": [
    {
     "data": {
      "text/plain": [
       "Index(['filepath', 'param', 'eid', 'field_id', 'ins'], dtype='object')"
      ]
     },
     "execution_count": 286,
     "metadata": {},
     "output_type": "execute_result"
    }
   ],
   "execution_count": 286
  },
  {
   "metadata": {
    "ExecuteTime": {
     "end_time": "2024-09-18T23:00:31.287111Z",
     "start_time": "2024-09-18T23:00:31.285091Z"
    }
   },
   "cell_type": "code",
   "source": "df_data.shape",
   "id": "658493729bbf3e43",
   "outputs": [
    {
     "data": {
      "text/plain": [
       "(71604, 5)"
      ]
     },
     "execution_count": 290,
     "metadata": {},
     "output_type": "execute_result"
    }
   ],
   "execution_count": 290
  },
  {
   "metadata": {
    "ExecuteTime": {
     "end_time": "2024-09-18T23:00:49.254624Z",
     "start_time": "2024-09-18T23:00:49.252663Z"
    }
   },
   "cell_type": "code",
   "source": "612 * 71604 /(1024 * 1024)",
   "id": "72470e92d5a8fc3c",
   "outputs": [
    {
     "data": {
      "text/plain": [
       "41.79158020019531"
      ]
     },
     "execution_count": 291,
     "metadata": {},
     "output_type": "execute_result"
    }
   ],
   "execution_count": 291
  },
  {
   "metadata": {},
   "cell_type": "code",
   "outputs": [],
   "execution_count": null,
   "source": "",
   "id": "77a0eb88081210dd"
  }
 ],
 "metadata": {
  "kernelspec": {
   "display_name": "Python 3",
   "language": "python",
   "name": "python3"
  },
  "language_info": {
   "codemirror_mode": {
    "name": "ipython",
    "version": 2
   },
   "file_extension": ".py",
   "mimetype": "text/x-python",
   "name": "python",
   "nbconvert_exporter": "python",
   "pygments_lexer": "ipython2",
   "version": "2.7.6"
  }
 },
 "nbformat": 4,
 "nbformat_minor": 5
}
