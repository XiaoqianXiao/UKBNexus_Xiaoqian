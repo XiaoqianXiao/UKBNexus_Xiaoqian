{
 "cells": [
  {
   "cell_type": "code",
   "execution_count": null,
   "id": "initial_id",
   "metadata": {
    "collapsed": true
   },
   "outputs": [],
   "source": [
    "# 31016: Glasser \n",
    "# 31018: Schaefer7ns 100p to 1000p \n",
    "# 31019: Tian Subcortex S1 to S4 3T \n",
    "# 31015: aparc \n",
    "# 31014: aparc a2009s\n",
    "selected_atlas_combinations=(\n",
    "\t# DK atlas + S1 subcortical atlas\n",
    "\t\"aparc,Tian_Subcortex_S1_3T\"\n",
    "\t# Destrieux atlas + S1 subcortical atlas\n",
    "\t\"aparc.a2009s,Tian_Subcortex_S1_3T\"\n",
    "\t# Glasser atlas + S1 subcortical atlas\n",
    "\t\"Glasser,Tian_Subcortex_S1_3T\"\n",
    "\t# Glasser atlas + S4 subcortical atlas\n",
    "\t\"Glasser,Tian_Subcortex_S4_3T\"\n",
    "\t# Schaeffer200 atlas + S1 subcortical atlas\n",
    "\t\"Schaefer7n200p,Tian_Subcortex_S1_3T\"\n",
    "\t# Schaeffer500 atlas + S4 subcortical atlas\n",
    "\t\"Schaefer7n500p,Tian_Subcortex_S4_3T\"\n",
    "\t# Schaeffer1000 atlas + S4 subcortical atlas\n",
    "\t\"Schaefer7n1000p,Tian_Subcortex_S4_3T\"\n",
    ")"
   ]
  },
  {
   "metadata": {},
   "cell_type": "code",
   "outputs": [],
   "execution_count": null,
   "source": "functional_connectivity_matrix = np.corrcoef(region_time_series)",
   "id": "9ac865b7da421947"
  }
 ],
 "metadata": {
  "kernelspec": {
   "display_name": "Python 3",
   "language": "python",
   "name": "python3"
  },
  "language_info": {
   "codemirror_mode": {
    "name": "ipython",
    "version": 2
   },
   "file_extension": ".py",
   "mimetype": "text/x-python",
   "name": "python",
   "nbconvert_exporter": "python",
   "pygments_lexer": "ipython2",
   "version": "2.7.6"
  }
 },
 "nbformat": 4,
 "nbformat_minor": 5
}
